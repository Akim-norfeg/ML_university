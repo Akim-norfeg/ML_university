{
 "cells": [
  {
   "cell_type": "code",
   "execution_count": 1,
   "id": "7abe680c-bd26-469e-8e95-099459c3b70e",
   "metadata": {
    "execution": {
     "iopub.execute_input": "2025-05-06T20:57:03.237398Z",
     "iopub.status.busy": "2025-05-06T20:57:03.237166Z",
     "iopub.status.idle": "2025-05-06T20:57:07.180356Z",
     "shell.execute_reply": "2025-05-06T20:57:07.179017Z",
     "shell.execute_reply.started": "2025-05-06T20:57:03.237378Z"
    }
   },
   "outputs": [
    {
     "name": "stdout",
     "output_type": "stream",
     "text": [
      "Requirement already satisfied: mplcyberpunk in /usr/local/lib/python3.11/dist-packages (0.7.6)\n",
      "Requirement already satisfied: rapidfuzz in /usr/local/lib/python3.11/dist-packages (3.13.0)\n",
      "Requirement already satisfied: matplotlib in /usr/local/lib/python3.11/dist-packages (from mplcyberpunk) (3.7.5)\n",
      "Requirement already satisfied: numpy>1.24.4 in /usr/local/lib/python3.11/dist-packages (from mplcyberpunk) (1.26.4)\n",
      "Requirement already satisfied: mkl_fft in /usr/local/lib/python3.11/dist-packages (from numpy>1.24.4->mplcyberpunk) (1.3.8)\n",
      "Requirement already satisfied: mkl_random in /usr/local/lib/python3.11/dist-packages (from numpy>1.24.4->mplcyberpunk) (1.2.4)\n",
      "Requirement already satisfied: mkl_umath in /usr/local/lib/python3.11/dist-packages (from numpy>1.24.4->mplcyberpunk) (0.1.1)\n",
      "Requirement already satisfied: mkl in /usr/local/lib/python3.11/dist-packages (from numpy>1.24.4->mplcyberpunk) (2025.1.0)\n",
      "Requirement already satisfied: tbb4py in /usr/local/lib/python3.11/dist-packages (from numpy>1.24.4->mplcyberpunk) (2022.1.0)\n",
      "Requirement already satisfied: mkl-service in /usr/local/lib/python3.11/dist-packages (from numpy>1.24.4->mplcyberpunk) (2.4.1)\n",
      "Requirement already satisfied: contourpy>=1.0.1 in /usr/local/lib/python3.11/dist-packages (from matplotlib->mplcyberpunk) (1.3.1)\n",
      "Requirement already satisfied: cycler>=0.10 in /usr/local/lib/python3.11/dist-packages (from matplotlib->mplcyberpunk) (0.12.1)\n",
      "Requirement already satisfied: fonttools>=4.22.0 in /usr/local/lib/python3.11/dist-packages (from matplotlib->mplcyberpunk) (4.56.0)\n",
      "Requirement already satisfied: kiwisolver>=1.0.1 in /usr/local/lib/python3.11/dist-packages (from matplotlib->mplcyberpunk) (1.4.8)\n",
      "Requirement already satisfied: packaging>=20.0 in /usr/local/lib/python3.11/dist-packages (from matplotlib->mplcyberpunk) (24.2)\n",
      "Requirement already satisfied: pillow>=6.2.0 in /usr/local/lib/python3.11/dist-packages (from matplotlib->mplcyberpunk) (11.1.0)\n",
      "Requirement already satisfied: pyparsing>=2.3.1 in /usr/local/lib/python3.11/dist-packages (from matplotlib->mplcyberpunk) (3.2.1)\n",
      "Requirement already satisfied: python-dateutil>=2.7 in /usr/local/lib/python3.11/dist-packages (from matplotlib->mplcyberpunk) (2.9.0.post0)\n",
      "Requirement already satisfied: six>=1.5 in /usr/local/lib/python3.11/dist-packages (from python-dateutil>=2.7->matplotlib->mplcyberpunk) (1.17.0)\n",
      "Requirement already satisfied: intel-openmp<2026,>=2024 in /usr/local/lib/python3.11/dist-packages (from mkl->numpy>1.24.4->mplcyberpunk) (2024.2.0)\n",
      "Requirement already satisfied: tbb==2022.* in /usr/local/lib/python3.11/dist-packages (from mkl->numpy>1.24.4->mplcyberpunk) (2022.1.0)\n",
      "Requirement already satisfied: tcmlib==1.* in /usr/local/lib/python3.11/dist-packages (from tbb==2022.*->mkl->numpy>1.24.4->mplcyberpunk) (1.2.0)\n",
      "Requirement already satisfied: intel-cmplr-lib-rt in /usr/local/lib/python3.11/dist-packages (from mkl_umath->numpy>1.24.4->mplcyberpunk) (2024.2.0)\n",
      "Requirement already satisfied: intel-cmplr-lib-ur==2024.2.0 in /usr/local/lib/python3.11/dist-packages (from intel-openmp<2026,>=2024->mkl->numpy>1.24.4->mplcyberpunk) (2024.2.0)\n",
      "Note: you may need to restart the kernel to use updated packages.\n"
     ]
    }
   ],
   "source": [
    "pip install mplcyberpunk rapidfuzz"
   ]
  },
  {
   "cell_type": "code",
   "execution_count": 2,
   "id": "85ca23c7-2b92-463f-94ba-b7b178b761b8",
   "metadata": {
    "execution": {
     "iopub.execute_input": "2025-05-06T20:57:07.182167Z",
     "iopub.status.busy": "2025-05-06T20:57:07.181763Z",
     "iopub.status.idle": "2025-05-06T20:57:07.192655Z",
     "shell.execute_reply": "2025-05-06T20:57:07.191500Z",
     "shell.execute_reply.started": "2025-05-06T20:57:07.182118Z"
    }
   },
   "outputs": [
    {
     "data": {
      "application/javascript": [
       "IPython.notebook.set_autosave_interval(60000)"
      ]
     },
     "metadata": {},
     "output_type": "display_data"
    },
    {
     "name": "stdout",
     "output_type": "stream",
     "text": [
      "Autosaving every 60 seconds\n"
     ]
    }
   ],
   "source": [
    "%autosave 60"
   ]
  },
  {
   "cell_type": "markdown",
   "id": "715f51d7-e058-4085-a28f-d840df01ca5d",
   "metadata": {},
   "source": [
    "# КТ №2 по ML | Серкибаев Аким, Э-2209"
   ]
  },
  {
   "cell_type": "markdown",
   "id": "25b2494f-efa4-45d0-b0bc-5c3da184cc47",
   "metadata": {},
   "source": [
    "## Мой гитхаб, где размещены все работы\n",
    "Ссылка на гитхаб: [ссылочка (тык)](https://github.com/akim-norfeg)"
   ]
  },
  {
   "cell_type": "markdown",
   "id": "8e04c0d3-b0e4-49d1-a053-e60da7410f3f",
   "metadata": {},
   "source": [
    "## Задание\n",
    "Необходимо провести разведочный анализ данных и применить изученные модели (не обязательно все), добившись наилучшего качества прогноза на тестовой выборке. Необходимо выбрать метрику, обосновав выбор. Target - Price\n",
    "\n",
    "## Цель исследования\n",
    "Построить регрессионную модель, максимально точно предсказывающую цену (Price) подержанного автомобиля на тестовой выборке и отобрать метрику качества прогноза, обосновав её выбор\n",
    "\n",
    "### Описание столбцов датасета\n",
    "\n",
    "| Column               | Description                                    |\n",
    "|----------------------|------------------------------------------------|\n",
    "| Name                 | Бренд и модель автомобиля                      |\n",
    "| Location             | Город продажи                                  |\n",
    "| Year                 | Год выпуска автомобиля                         |\n",
    "| Kilometers_Driven    | Пробег в километрах                            |\n",
    "| Fuel_Type            | Тип используемого топлива                      |\n",
    "| Transmission         | Тип коробки передач                            |\n",
    "| Owner_Type           | Категория предыдущего владельца                |\n",
    "| Mileage              | Расход топлива с указанием единицы измерения   |\n",
    "| Engine               | Объём двигателя в кубических сантиметрах       |\n",
    "| Power                | Мощность двигателя в лошадиных силах           |\n",
    "| Seats                | Количество посадочных мест                     |\n",
    "| New_Price            | Цена автомобиля при покупке новым              |\n",
    "| Price                | Цена подержанного автомобиля (целевой признак) |\n"
   ]
  },
  {
   "cell_type": "code",
   "execution_count": 3,
   "id": "56a92abe-f925-441f-86bb-90ceda7c2a03",
   "metadata": {
    "execution": {
     "iopub.execute_input": "2025-05-06T20:57:07.194185Z",
     "iopub.status.busy": "2025-05-06T20:57:07.193875Z",
     "iopub.status.idle": "2025-05-06T20:57:09.131318Z",
     "shell.execute_reply": "2025-05-06T20:57:09.130283Z",
     "shell.execute_reply.started": "2025-05-06T20:57:07.194161Z"
    }
   },
   "outputs": [],
   "source": [
    "import pandas as pd\n",
    "import numpy as np\n",
    "import os\n",
    "\n",
    "import matplotlib.pyplot as plt\n",
    "import mplcyberpunk\n",
    "plt.style.use('cyberpunk')\n",
    "\n",
    "from statsmodels.stats.outliers_influence import variance_inflation_factor\n",
    "from statsmodels.tools.tools import add_constant\n",
    "\n",
    "import warnings\n",
    "\n",
    "import missingno as msno\n",
    "from rapidfuzz import process, fuzz\n",
    "\n",
    "from sklearn.feature_selection import RFE\n",
    "from sklearn.linear_model import Ridge\n",
    "\n",
    "from sklearn.model_selection import train_test_split, GridSearchCV, KFold\n",
    "from sklearn.dummy import DummyRegressor\n",
    "from sklearn.metrics import mean_squared_error, mean_absolute_error, r2_score\n",
    "from sklearn.linear_model import LinearRegression, Ridge, Lasso\n",
    "from sklearn.ensemble import RandomForestRegressor\n",
    "from xgboost import XGBRegressor"
   ]
  },
  {
   "cell_type": "code",
   "execution_count": 4,
   "id": "bcebffc9-2055-439b-9371-7726fd86e3b1",
   "metadata": {
    "execution": {
     "iopub.execute_input": "2025-05-06T20:57:09.132828Z",
     "iopub.status.busy": "2025-05-06T20:57:09.132315Z",
     "iopub.status.idle": "2025-05-06T20:57:09.139754Z",
     "shell.execute_reply": "2025-05-06T20:57:09.138266Z",
     "shell.execute_reply.started": "2025-05-06T20:57:09.132799Z"
    }
   },
   "outputs": [],
   "source": [
    "pd.set_option('display.max_columns', None) #max отображение столбцов\n",
    "pd.set_option('max_colwidth', 555) #полное отображение записей в датасете\n",
    "pd.set_option('display.max_colwidth', None) #показывает все символы в строках\n",
    "warnings.filterwarnings('ignore') #отключим предупреждения"
   ]
  },
  {
   "cell_type": "code",
   "execution_count": 5,
   "id": "de199c1a-d07a-4e4c-b40d-d06f5789b372",
   "metadata": {
    "execution": {
     "iopub.execute_input": "2025-05-06T20:57:09.143971Z",
     "iopub.status.busy": "2025-05-06T20:57:09.143613Z",
     "iopub.status.idle": "2025-05-06T20:57:09.184173Z",
     "shell.execute_reply": "2025-05-06T20:57:09.182571Z",
     "shell.execute_reply.started": "2025-05-06T20:57:09.143932Z"
    }
   },
   "outputs": [],
   "source": [
    "data_dir = '/kaggle/input/dataset-price-car'\n",
    "\n",
    "#находим CSV-файл\n",
    "files = os.listdir(data_dir)\n",
    "csv_files = [f for f in files if f.endswith('.csv')]\n",
    "assert len(csv_files) == 1, \"В папке должно быть ровно 1 CSV-файл\"\n",
    "file_path = os.path.join(data_dir, csv_files[0])"
   ]
  },
  {
   "cell_type": "code",
   "execution_count": 6,
   "id": "f9d130dd-61d9-4beb-8e4a-3a60deb977ca",
   "metadata": {
    "execution": {
     "iopub.execute_input": "2025-05-06T20:57:09.186059Z",
     "iopub.status.busy": "2025-05-06T20:57:09.185652Z",
     "iopub.status.idle": "2025-05-06T20:57:09.231043Z",
     "shell.execute_reply": "2025-05-06T20:57:09.228941Z",
     "shell.execute_reply.started": "2025-05-06T20:57:09.186025Z"
    }
   },
   "outputs": [],
   "source": [
    "df = pd.read_csv(file_path)"
   ]
  },
  {
   "cell_type": "markdown",
   "id": "0310617c-ccb0-4c42-aae5-94f3c79da21b",
   "metadata": {},
   "source": [
    "## Предобработка данных"
   ]
  },
  {
   "cell_type": "code",
   "execution_count": 7,
   "id": "2e2c1be2-26ac-4444-899c-0c3ee71d9b99",
   "metadata": {
    "execution": {
     "iopub.execute_input": "2025-05-06T20:57:09.233338Z",
     "iopub.status.busy": "2025-05-06T20:57:09.232839Z",
     "iopub.status.idle": "2025-05-06T20:57:09.255602Z",
     "shell.execute_reply": "2025-05-06T20:57:09.254151Z",
     "shell.execute_reply.started": "2025-05-06T20:57:09.233308Z"
    }
   },
   "outputs": [
    {
     "data": {
      "text/html": [
       "<div>\n",
       "<style scoped>\n",
       "    .dataframe tbody tr th:only-of-type {\n",
       "        vertical-align: middle;\n",
       "    }\n",
       "\n",
       "    .dataframe tbody tr th {\n",
       "        vertical-align: top;\n",
       "    }\n",
       "\n",
       "    .dataframe thead th {\n",
       "        text-align: right;\n",
       "    }\n",
       "</style>\n",
       "<table border=\"1\" class=\"dataframe\">\n",
       "  <thead>\n",
       "    <tr style=\"text-align: right;\">\n",
       "      <th></th>\n",
       "      <th>Name</th>\n",
       "      <th>Location</th>\n",
       "      <th>Year</th>\n",
       "      <th>Kilometers_Driven</th>\n",
       "      <th>Fuel_Type</th>\n",
       "      <th>Transmission</th>\n",
       "      <th>Owner_Type</th>\n",
       "      <th>Mileage</th>\n",
       "      <th>Engine</th>\n",
       "      <th>Power</th>\n",
       "      <th>Seats</th>\n",
       "      <th>New_Price</th>\n",
       "      <th>Price</th>\n",
       "    </tr>\n",
       "  </thead>\n",
       "  <tbody>\n",
       "    <tr>\n",
       "      <th>0</th>\n",
       "      <td>Maruti Wagon R LXI CNG</td>\n",
       "      <td>Mumbai</td>\n",
       "      <td>2010</td>\n",
       "      <td>72000</td>\n",
       "      <td>CNG</td>\n",
       "      <td>Manual</td>\n",
       "      <td>First</td>\n",
       "      <td>26.6 km/kg</td>\n",
       "      <td>998 CC</td>\n",
       "      <td>58.16 bhp</td>\n",
       "      <td>5.0</td>\n",
       "      <td>NaN</td>\n",
       "      <td>1.75</td>\n",
       "    </tr>\n",
       "    <tr>\n",
       "      <th>1</th>\n",
       "      <td>Hyundai Creta 1.6 CRDi SX Option</td>\n",
       "      <td>Pune</td>\n",
       "      <td>2015</td>\n",
       "      <td>41000</td>\n",
       "      <td>Diesel</td>\n",
       "      <td>Manual</td>\n",
       "      <td>First</td>\n",
       "      <td>19.67 kmpl</td>\n",
       "      <td>1582 CC</td>\n",
       "      <td>126.2 bhp</td>\n",
       "      <td>5.0</td>\n",
       "      <td>NaN</td>\n",
       "      <td>12.50</td>\n",
       "    </tr>\n",
       "    <tr>\n",
       "      <th>2</th>\n",
       "      <td>Honda Jazz V</td>\n",
       "      <td>Chennai</td>\n",
       "      <td>2011</td>\n",
       "      <td>46000</td>\n",
       "      <td>Petrol</td>\n",
       "      <td>Manual</td>\n",
       "      <td>First</td>\n",
       "      <td>18.2 kmpl</td>\n",
       "      <td>1199 CC</td>\n",
       "      <td>88.7 bhp</td>\n",
       "      <td>5.0</td>\n",
       "      <td>8.61 Lakh</td>\n",
       "      <td>4.50</td>\n",
       "    </tr>\n",
       "    <tr>\n",
       "      <th>3</th>\n",
       "      <td>Maruti Ertiga VDI</td>\n",
       "      <td>Chennai</td>\n",
       "      <td>2012</td>\n",
       "      <td>87000</td>\n",
       "      <td>Diesel</td>\n",
       "      <td>Manual</td>\n",
       "      <td>First</td>\n",
       "      <td>20.77 kmpl</td>\n",
       "      <td>1248 CC</td>\n",
       "      <td>88.76 bhp</td>\n",
       "      <td>7.0</td>\n",
       "      <td>NaN</td>\n",
       "      <td>6.00</td>\n",
       "    </tr>\n",
       "    <tr>\n",
       "      <th>4</th>\n",
       "      <td>Audi A4 New 2.0 TDI Multitronic</td>\n",
       "      <td>Coimbatore</td>\n",
       "      <td>2013</td>\n",
       "      <td>40670</td>\n",
       "      <td>Diesel</td>\n",
       "      <td>Automatic</td>\n",
       "      <td>Second</td>\n",
       "      <td>15.2 kmpl</td>\n",
       "      <td>1968 CC</td>\n",
       "      <td>140.8 bhp</td>\n",
       "      <td>5.0</td>\n",
       "      <td>NaN</td>\n",
       "      <td>17.74</td>\n",
       "    </tr>\n",
       "  </tbody>\n",
       "</table>\n",
       "</div>"
      ],
      "text/plain": [
       "                               Name    Location  Year  Kilometers_Driven  \\\n",
       "0            Maruti Wagon R LXI CNG      Mumbai  2010              72000   \n",
       "1  Hyundai Creta 1.6 CRDi SX Option        Pune  2015              41000   \n",
       "2                      Honda Jazz V     Chennai  2011              46000   \n",
       "3                 Maruti Ertiga VDI     Chennai  2012              87000   \n",
       "4   Audi A4 New 2.0 TDI Multitronic  Coimbatore  2013              40670   \n",
       "\n",
       "  Fuel_Type Transmission Owner_Type     Mileage   Engine      Power  Seats  \\\n",
       "0       CNG       Manual      First  26.6 km/kg   998 CC  58.16 bhp    5.0   \n",
       "1    Diesel       Manual      First  19.67 kmpl  1582 CC  126.2 bhp    5.0   \n",
       "2    Petrol       Manual      First   18.2 kmpl  1199 CC   88.7 bhp    5.0   \n",
       "3    Diesel       Manual      First  20.77 kmpl  1248 CC  88.76 bhp    7.0   \n",
       "4    Diesel    Automatic     Second   15.2 kmpl  1968 CC  140.8 bhp    5.0   \n",
       "\n",
       "   New_Price  Price  \n",
       "0        NaN   1.75  \n",
       "1        NaN  12.50  \n",
       "2  8.61 Lakh   4.50  \n",
       "3        NaN   6.00  \n",
       "4        NaN  17.74  "
      ]
     },
     "execution_count": 7,
     "metadata": {},
     "output_type": "execute_result"
    }
   ],
   "source": [
    "df.head()"
   ]
  },
  {
   "cell_type": "code",
   "execution_count": 8,
   "id": "482fe9da-fd36-4fac-a09d-a13f6c1632a1",
   "metadata": {
    "execution": {
     "iopub.execute_input": "2025-05-06T20:57:09.257375Z",
     "iopub.status.busy": "2025-05-06T20:57:09.256933Z",
     "iopub.status.idle": "2025-05-06T20:57:09.291712Z",
     "shell.execute_reply": "2025-05-06T20:57:09.290661Z",
     "shell.execute_reply.started": "2025-05-06T20:57:09.257330Z"
    }
   },
   "outputs": [
    {
     "name": "stdout",
     "output_type": "stream",
     "text": [
      "Размерность датасета: (6019, 13)\n",
      "\n",
      "Типы данных по столбцам:\n",
      " Name                  object\n",
      "Location              object\n",
      "Year                   int64\n",
      "Kilometers_Driven      int64\n",
      "Fuel_Type             object\n",
      "Transmission          object\n",
      "Owner_Type            object\n",
      "Mileage               object\n",
      "Engine                object\n",
      "Power                 object\n",
      "Seats                float64\n",
      "New_Price             object\n",
      "Price                float64\n",
      "dtype: object\n",
      "\n",
      "Число полных дубликатов строк: 0\n"
     ]
    }
   ],
   "source": [
    "print(\"Размерность датасета:\", df.shape)\n",
    "print(\"\\nТипы данных по столбцам:\\n\", df.dtypes)\n",
    "print(f\"\\nЧисло полных дубликатов строк: {df.duplicated().sum()}\")"
   ]
  },
  {
   "cell_type": "markdown",
   "id": "68b500bd-ffe4-4d58-a42b-81aa56765777",
   "metadata": {},
   "source": [
    "Число пропусков по каждому столбцу"
   ]
  },
  {
   "cell_type": "code",
   "execution_count": 9,
   "id": "8b505764-ca66-442e-af23-80b524acc0c5",
   "metadata": {
    "execution": {
     "iopub.execute_input": "2025-05-06T20:57:09.293984Z",
     "iopub.status.busy": "2025-05-06T20:57:09.293599Z",
     "iopub.status.idle": "2025-05-06T20:57:09.309097Z",
     "shell.execute_reply": "2025-05-06T20:57:09.307781Z",
     "shell.execute_reply.started": "2025-05-06T20:57:09.293954Z"
    }
   },
   "outputs": [
    {
     "name": "stdout",
     "output_type": "stream",
     "text": [
      "Name                    0\n",
      "Location                0\n",
      "Year                    0\n",
      "Kilometers_Driven       0\n",
      "Fuel_Type               0\n",
      "Transmission            0\n",
      "Owner_Type              0\n",
      "Mileage                 2\n",
      "Engine                 36\n",
      "Power                  36\n",
      "Seats                  42\n",
      "New_Price            5195\n",
      "Price                   0\n",
      "dtype: int64\n"
     ]
    }
   ],
   "source": [
    "print(df.isnull().sum())"
   ]
  },
  {
   "cell_type": "code",
   "execution_count": 10,
   "id": "f603cb47-4f4d-4803-924c-1650052ae699",
   "metadata": {
    "execution": {
     "iopub.execute_input": "2025-05-06T20:57:09.311457Z",
     "iopub.status.busy": "2025-05-06T20:57:09.310811Z",
     "iopub.status.idle": "2025-05-06T20:57:09.352690Z",
     "shell.execute_reply": "2025-05-06T20:57:09.351287Z",
     "shell.execute_reply.started": "2025-05-06T20:57:09.311414Z"
    }
   },
   "outputs": [
    {
     "name": "stdout",
     "output_type": "stream",
     "text": [
      "<class 'pandas.core.frame.DataFrame'>\n",
      "RangeIndex: 6019 entries, 0 to 6018\n",
      "Data columns (total 13 columns):\n",
      " #   Column             Non-Null Count  Dtype  \n",
      "---  ------             --------------  -----  \n",
      " 0   Name               6019 non-null   object \n",
      " 1   Location           6019 non-null   object \n",
      " 2   Year               6019 non-null   int64  \n",
      " 3   Kilometers_Driven  6019 non-null   int64  \n",
      " 4   Fuel_Type          6019 non-null   object \n",
      " 5   Transmission       6019 non-null   object \n",
      " 6   Owner_Type         6019 non-null   object \n",
      " 7   Mileage            6017 non-null   object \n",
      " 8   Engine             5983 non-null   object \n",
      " 9   Power              5983 non-null   object \n",
      " 10  Seats              5977 non-null   float64\n",
      " 11  New_Price          824 non-null    object \n",
      " 12  Price              6019 non-null   float64\n",
      "dtypes: float64(2), int64(2), object(9)\n",
      "memory usage: 611.4+ KB\n"
     ]
    }
   ],
   "source": [
    "df.info()"
   ]
  },
  {
   "cell_type": "code",
   "execution_count": 11,
   "id": "4370e95d-79f1-44de-8726-c5981f8800ed",
   "metadata": {
    "execution": {
     "iopub.execute_input": "2025-05-06T20:57:09.354391Z",
     "iopub.status.busy": "2025-05-06T20:57:09.353611Z",
     "iopub.status.idle": "2025-05-06T20:57:11.224528Z",
     "shell.execute_reply": "2025-05-06T20:57:11.223522Z",
     "shell.execute_reply.started": "2025-05-06T20:57:09.354359Z"
    }
   },
   "outputs": [
    {
     "data": {
      "text/plain": [
       "<Axes: >"
      ]
     },
     "execution_count": 11,
     "metadata": {},
     "output_type": "execute_result"
    },
    {
     "data": {
      "image/png": "[encoded data removed]",
      "text/plain": [
       "<Figure size 2500x1000 with 4 Axes>"
      ]
     },
     "metadata": {},
     "output_type": "display_data"
    },
    {
     "data": {
      "image/png": "[encoded data removed]",
      "text/plain": [
       "<Figure size 2000x1200 with 2 Axes>"
      ]
     },
     "metadata": {},
     "output_type": "display_data"
    }
   ],
   "source": [
    "msno.matrix(df)\n",
    "msno.bar(df)\n",
    "msno.heatmap(df)"
   ]
  },
  {
   "cell_type": "code",
   "execution_count": 12,
   "id": "bac50232-628d-4b1a-8f8e-2a3f8cadb56b",
   "metadata": {
    "execution": {
     "iopub.execute_input": "2025-05-06T20:57:11.225924Z",
     "iopub.status.busy": "2025-05-06T20:57:11.225571Z",
     "iopub.status.idle": "2025-05-06T20:57:11.240196Z",
     "shell.execute_reply": "2025-05-06T20:57:11.239262Z",
     "shell.execute_reply.started": "2025-05-06T20:57:11.225894Z"
    }
   },
   "outputs": [
    {
     "data": {
      "text/html": [
       "<div>\n",
       "<style scoped>\n",
       "    .dataframe tbody tr th:only-of-type {\n",
       "        vertical-align: middle;\n",
       "    }\n",
       "\n",
       "    .dataframe tbody tr th {\n",
       "        vertical-align: top;\n",
       "    }\n",
       "\n",
       "    .dataframe thead th {\n",
       "        text-align: right;\n",
       "    }\n",
       "</style>\n",
       "<table border=\"1\" class=\"dataframe\">\n",
       "  <thead>\n",
       "    <tr style=\"text-align: right;\">\n",
       "      <th></th>\n",
       "      <th>Name</th>\n",
       "      <th>Location</th>\n",
       "      <th>Year</th>\n",
       "      <th>Kilometers_Driven</th>\n",
       "      <th>Fuel_Type</th>\n",
       "      <th>Transmission</th>\n",
       "      <th>Owner_Type</th>\n",
       "      <th>Mileage</th>\n",
       "      <th>Engine</th>\n",
       "      <th>Power</th>\n",
       "      <th>Seats</th>\n",
       "      <th>New_Price</th>\n",
       "      <th>Price</th>\n",
       "    </tr>\n",
       "  </thead>\n",
       "  <tbody>\n",
       "    <tr>\n",
       "      <th>0</th>\n",
       "      <td>Maruti Wagon R LXI CNG</td>\n",
       "      <td>Mumbai</td>\n",
       "      <td>2010</td>\n",
       "      <td>72000</td>\n",
       "      <td>CNG</td>\n",
       "      <td>Manual</td>\n",
       "      <td>First</td>\n",
       "      <td>26.6 km/kg</td>\n",
       "      <td>998 CC</td>\n",
       "      <td>58.16 bhp</td>\n",
       "      <td>5.0</td>\n",
       "      <td>NaN</td>\n",
       "      <td>1.75</td>\n",
       "    </tr>\n",
       "  </tbody>\n",
       "</table>\n",
       "</div>"
      ],
      "text/plain": [
       "                     Name Location  Year  Kilometers_Driven Fuel_Type  \\\n",
       "0  Maruti Wagon R LXI CNG   Mumbai  2010              72000       CNG   \n",
       "\n",
       "  Transmission Owner_Type     Mileage  Engine      Power  Seats New_Price  \\\n",
       "0       Manual      First  26.6 km/kg  998 CC  58.16 bhp    5.0       NaN   \n",
       "\n",
       "   Price  \n",
       "0   1.75  "
      ]
     },
     "execution_count": 12,
     "metadata": {},
     "output_type": "execute_result"
    }
   ],
   "source": [
    "df.head(1)"
   ]
  },
  {
   "cell_type": "markdown",
   "id": "324015d9-47cb-4306-99d1-845dd78f139d",
   "metadata": {},
   "source": [
    "### Далее обработаем данные, сделаем всё красиво:\n",
    "1. **Преобразование строковых признаков в числовые**  \n",
    "   - `Mileage`, `Engine`, `Power` содержат и число, и единицу. Модели нужны только численные значения:  \n",
    "     - **`Mileage_Value`** (float) и **`Mileage_Unit`** (category) из `Mileage`  \n",
    "     - **`Engine_CC`** (float) из `Engine`  \n",
    "     - **`Power_BHP`** (float) из `Power` (с предварительной заменой «null bhp» на NaN)  \n",
    "   - Без этого шага модель не «увидит» зависимость между пробегом, объёмом/мощностью двигателя и ценой.\n",
    "\n",
    "2. **Вычисление возраста автомобиля**  \n",
    "   - Новый признак **`Age = 2025 – Year`** обычно сильнее коррелирует с ценой, чем сам год выпуска.\n",
    "\n",
    "3. **Промежуточный анализ пропусков**  \n",
    "   - После извлечения чисел важно оценить оставшиеся NaN в `Mileage_Value`, `Engine_CC`, `Power_BHP`, `Seats`:  \n",
    "     - На их основе выберем стратегию заполнения (медиана в группах).\n",
    "\n",
    "4. **Дополнительный признак `New_Price_Lakh`**  \n",
    "   - Преобразование `New_Price` в числовой формат позволяет анализировать отклонение текущей цены от изначальной, но из-за 86 % пропусков в модели напрямую использовать его не будем."
   ]
  },
  {
   "cell_type": "code",
   "execution_count": 13,
   "id": "2ecce3b6-98e4-4b2c-ba6b-8a4bec8c5b4d",
   "metadata": {
    "execution": {
     "iopub.execute_input": "2025-05-06T20:57:11.241586Z",
     "iopub.status.busy": "2025-05-06T20:57:11.241329Z",
     "iopub.status.idle": "2025-05-06T20:57:11.287781Z",
     "shell.execute_reply": "2025-05-06T20:57:11.286793Z",
     "shell.execute_reply.started": "2025-05-06T20:57:11.241566Z"
    }
   },
   "outputs": [
    {
     "data": {
      "text/html": [
       "<div>\n",
       "<style scoped>\n",
       "    .dataframe tbody tr th:only-of-type {\n",
       "        vertical-align: middle;\n",
       "    }\n",
       "\n",
       "    .dataframe tbody tr th {\n",
       "        vertical-align: top;\n",
       "    }\n",
       "\n",
       "    .dataframe thead th {\n",
       "        text-align: right;\n",
       "    }\n",
       "</style>\n",
       "<table border=\"1\" class=\"dataframe\">\n",
       "  <thead>\n",
       "    <tr style=\"text-align: right;\">\n",
       "      <th></th>\n",
       "      <th>Name</th>\n",
       "      <th>Location</th>\n",
       "      <th>Year</th>\n",
       "      <th>Kilometers_Driven</th>\n",
       "      <th>Fuel_Type</th>\n",
       "      <th>Transmission</th>\n",
       "      <th>Owner_Type</th>\n",
       "      <th>Mileage</th>\n",
       "      <th>Engine</th>\n",
       "      <th>Power</th>\n",
       "      <th>Seats</th>\n",
       "      <th>New_Price</th>\n",
       "      <th>Price</th>\n",
       "      <th>Mileage_Value</th>\n",
       "      <th>Mileage_Unit</th>\n",
       "    </tr>\n",
       "  </thead>\n",
       "  <tbody>\n",
       "    <tr>\n",
       "      <th>0</th>\n",
       "      <td>Maruti Wagon R LXI CNG</td>\n",
       "      <td>Mumbai</td>\n",
       "      <td>2010</td>\n",
       "      <td>72000</td>\n",
       "      <td>CNG</td>\n",
       "      <td>Manual</td>\n",
       "      <td>First</td>\n",
       "      <td>26.6 km/kg</td>\n",
       "      <td>998 CC</td>\n",
       "      <td>58.16 bhp</td>\n",
       "      <td>5.0</td>\n",
       "      <td>NaN</td>\n",
       "      <td>1.75</td>\n",
       "      <td>26.6</td>\n",
       "      <td>km/kg</td>\n",
       "    </tr>\n",
       "  </tbody>\n",
       "</table>\n",
       "</div>"
      ],
      "text/plain": [
       "                     Name Location  Year  Kilometers_Driven Fuel_Type  \\\n",
       "0  Maruti Wagon R LXI CNG   Mumbai  2010              72000       CNG   \n",
       "\n",
       "  Transmission Owner_Type     Mileage  Engine      Power  Seats New_Price  \\\n",
       "0       Manual      First  26.6 km/kg  998 CC  58.16 bhp    5.0       NaN   \n",
       "\n",
       "   Price  Mileage_Value Mileage_Unit  \n",
       "0   1.75           26.6        km/kg  "
      ]
     },
     "execution_count": 13,
     "metadata": {},
     "output_type": "execute_result"
    }
   ],
   "source": [
    "#числовые и текстовые части из Mileage\n",
    "df['Mileage_Value'] = df['Mileage'].str.split().str[0].astype(float)\n",
    "df['Mileage_Unit']  = df['Mileage'].str.split().str[1]\n",
    "df.head(1)"
   ]
  },
  {
   "cell_type": "code",
   "execution_count": 14,
   "id": "840a4b67-972f-402b-b37c-5abeaa129e04",
   "metadata": {
    "execution": {
     "iopub.execute_input": "2025-05-06T20:57:11.289255Z",
     "iopub.status.busy": "2025-05-06T20:57:11.288819Z",
     "iopub.status.idle": "2025-05-06T20:57:11.325634Z",
     "shell.execute_reply": "2025-05-06T20:57:11.324470Z",
     "shell.execute_reply.started": "2025-05-06T20:57:11.289223Z"
    }
   },
   "outputs": [
    {
     "data": {
      "text/html": [
       "<div>\n",
       "<style scoped>\n",
       "    .dataframe tbody tr th:only-of-type {\n",
       "        vertical-align: middle;\n",
       "    }\n",
       "\n",
       "    .dataframe tbody tr th {\n",
       "        vertical-align: top;\n",
       "    }\n",
       "\n",
       "    .dataframe thead th {\n",
       "        text-align: right;\n",
       "    }\n",
       "</style>\n",
       "<table border=\"1\" class=\"dataframe\">\n",
       "  <thead>\n",
       "    <tr style=\"text-align: right;\">\n",
       "      <th></th>\n",
       "      <th>Name</th>\n",
       "      <th>Location</th>\n",
       "      <th>Year</th>\n",
       "      <th>Kilometers_Driven</th>\n",
       "      <th>Fuel_Type</th>\n",
       "      <th>Transmission</th>\n",
       "      <th>Owner_Type</th>\n",
       "      <th>Mileage</th>\n",
       "      <th>Engine</th>\n",
       "      <th>Power</th>\n",
       "      <th>Seats</th>\n",
       "      <th>New_Price</th>\n",
       "      <th>Price</th>\n",
       "      <th>Mileage_Value</th>\n",
       "      <th>Mileage_Unit</th>\n",
       "      <th>Engine_CC</th>\n",
       "    </tr>\n",
       "  </thead>\n",
       "  <tbody>\n",
       "    <tr>\n",
       "      <th>0</th>\n",
       "      <td>Maruti Wagon R LXI CNG</td>\n",
       "      <td>Mumbai</td>\n",
       "      <td>2010</td>\n",
       "      <td>72000</td>\n",
       "      <td>CNG</td>\n",
       "      <td>Manual</td>\n",
       "      <td>First</td>\n",
       "      <td>26.6 km/kg</td>\n",
       "      <td>998 CC</td>\n",
       "      <td>58.16 bhp</td>\n",
       "      <td>5.0</td>\n",
       "      <td>NaN</td>\n",
       "      <td>1.75</td>\n",
       "      <td>26.6</td>\n",
       "      <td>km/kg</td>\n",
       "      <td>998.0</td>\n",
       "    </tr>\n",
       "  </tbody>\n",
       "</table>\n",
       "</div>"
      ],
      "text/plain": [
       "                     Name Location  Year  Kilometers_Driven Fuel_Type  \\\n",
       "0  Maruti Wagon R LXI CNG   Mumbai  2010              72000       CNG   \n",
       "\n",
       "  Transmission Owner_Type     Mileage  Engine      Power  Seats New_Price  \\\n",
       "0       Manual      First  26.6 km/kg  998 CC  58.16 bhp    5.0       NaN   \n",
       "\n",
       "   Price  Mileage_Value Mileage_Unit  Engine_CC  \n",
       "0   1.75           26.6        km/kg      998.0  "
      ]
     },
     "execution_count": 14,
     "metadata": {},
     "output_type": "execute_result"
    }
   ],
   "source": [
    "#CC из Engine\n",
    "df['Engine_CC'] = df['Engine'].str.extract(r'(\\d+)').astype(float)\n",
    "df.head(1)"
   ]
  },
  {
   "cell_type": "code",
   "execution_count": 15,
   "id": "6b6d886d-42e2-4a62-88da-ee2cd2b9a989",
   "metadata": {
    "execution": {
     "iopub.execute_input": "2025-05-06T20:57:11.326967Z",
     "iopub.status.busy": "2025-05-06T20:57:11.326596Z",
     "iopub.status.idle": "2025-05-06T20:57:11.352042Z",
     "shell.execute_reply": "2025-05-06T20:57:11.350917Z",
     "shell.execute_reply.started": "2025-05-06T20:57:11.326941Z"
    }
   },
   "outputs": [],
   "source": [
    "#BHP из Power\n",
    "#некоторые значений Power могут быть 'null bhp', поэтому сначала заменим нечисловые на NaN\n",
    "df['Power'] = df['Power'].replace('null bhp', np.nan)\n",
    "df['Power_BHP'] = df['Power'].str.extract(r'([\\d\\.]+)').astype(float)"
   ]
  },
  {
   "cell_type": "code",
   "execution_count": 16,
   "id": "0d4c0296-b8d5-486c-aade-debe41fe5e6b",
   "metadata": {
    "execution": {
     "iopub.execute_input": "2025-05-06T20:57:11.353348Z",
     "iopub.status.busy": "2025-05-06T20:57:11.353082Z",
     "iopub.status.idle": "2025-05-06T20:57:11.380855Z",
     "shell.execute_reply": "2025-05-06T20:57:11.379771Z",
     "shell.execute_reply.started": "2025-05-06T20:57:11.353328Z"
    }
   },
   "outputs": [
    {
     "name": "stdout",
     "output_type": "stream",
     "text": [
      "Пропуски в New_Price_Lakh: 5195\n"
     ]
    },
    {
     "data": {
      "text/html": [
       "<div>\n",
       "<style scoped>\n",
       "    .dataframe tbody tr th:only-of-type {\n",
       "        vertical-align: middle;\n",
       "    }\n",
       "\n",
       "    .dataframe tbody tr th {\n",
       "        vertical-align: top;\n",
       "    }\n",
       "\n",
       "    .dataframe thead th {\n",
       "        text-align: right;\n",
       "    }\n",
       "</style>\n",
       "<table border=\"1\" class=\"dataframe\">\n",
       "  <thead>\n",
       "    <tr style=\"text-align: right;\">\n",
       "      <th></th>\n",
       "      <th>Name</th>\n",
       "      <th>Location</th>\n",
       "      <th>Year</th>\n",
       "      <th>Kilometers_Driven</th>\n",
       "      <th>Fuel_Type</th>\n",
       "      <th>Transmission</th>\n",
       "      <th>Owner_Type</th>\n",
       "      <th>Mileage</th>\n",
       "      <th>Engine</th>\n",
       "      <th>Power</th>\n",
       "      <th>Seats</th>\n",
       "      <th>New_Price</th>\n",
       "      <th>Price</th>\n",
       "      <th>Mileage_Value</th>\n",
       "      <th>Mileage_Unit</th>\n",
       "      <th>Engine_CC</th>\n",
       "      <th>Power_BHP</th>\n",
       "      <th>New_Price_Lakh</th>\n",
       "    </tr>\n",
       "  </thead>\n",
       "  <tbody>\n",
       "    <tr>\n",
       "      <th>4440</th>\n",
       "      <td>Hyundai Verna 1.6 CRDi AT S</td>\n",
       "      <td>Chennai</td>\n",
       "      <td>2016</td>\n",
       "      <td>33000</td>\n",
       "      <td>Diesel</td>\n",
       "      <td>Automatic</td>\n",
       "      <td>First</td>\n",
       "      <td>19.08 kmpl</td>\n",
       "      <td>1582 CC</td>\n",
       "      <td>126.2 bhp</td>\n",
       "      <td>5.0</td>\n",
       "      <td>NaN</td>\n",
       "      <td>8.7</td>\n",
       "      <td>19.08</td>\n",
       "      <td>kmpl</td>\n",
       "      <td>1582.0</td>\n",
       "      <td>126.2</td>\n",
       "      <td>NaN</td>\n",
       "    </tr>\n",
       "  </tbody>\n",
       "</table>\n",
       "</div>"
      ],
      "text/plain": [
       "                             Name Location  Year  Kilometers_Driven Fuel_Type  \\\n",
       "4440  Hyundai Verna 1.6 CRDi AT S  Chennai  2016              33000    Diesel   \n",
       "\n",
       "     Transmission Owner_Type     Mileage   Engine      Power  Seats New_Price  \\\n",
       "4440    Automatic      First  19.08 kmpl  1582 CC  126.2 bhp    5.0       NaN   \n",
       "\n",
       "      Price  Mileage_Value Mileage_Unit  Engine_CC  Power_BHP  New_Price_Lakh  \n",
       "4440    8.7          19.08         kmpl     1582.0      126.2             NaN  "
      ]
     },
     "execution_count": 16,
     "metadata": {},
     "output_type": "execute_result"
    }
   ],
   "source": [
    "def parse_price_to_lakh(x):\n",
    "    if pd.isna(x):\n",
    "        return np.nan\n",
    "    x = x.strip()\n",
    "    if x.endswith('Cr'):\n",
    "        #1 Cr = 100 Lakh\n",
    "        return float(x.replace(' Cr', '')) * 100\n",
    "    if x.endswith('Lakh'):\n",
    "        return float(x.replace(' Lakh', ''))\n",
    "    return np.nan\n",
    "\n",
    "df['New_Price_Lakh'] = df['New_Price'].apply(parse_price_to_lakh)\n",
    "\n",
    "print(\"Пропуски в New_Price_Lakh:\", df['New_Price_Lakh'].isnull().sum())\n",
    "df.sample(1)"
   ]
  },
  {
   "cell_type": "code",
   "execution_count": 17,
   "id": "52dc0d8d-c705-412d-bfbd-6b485a42bf21",
   "metadata": {
    "execution": {
     "iopub.execute_input": "2025-05-06T20:57:11.382305Z",
     "iopub.status.busy": "2025-05-06T20:57:11.381937Z",
     "iopub.status.idle": "2025-05-06T20:57:11.399509Z",
     "shell.execute_reply": "2025-05-06T20:57:11.398664Z",
     "shell.execute_reply.started": "2025-05-06T20:57:11.382271Z"
    }
   },
   "outputs": [
    {
     "data": {
      "text/html": [
       "<div>\n",
       "<style scoped>\n",
       "    .dataframe tbody tr th:only-of-type {\n",
       "        vertical-align: middle;\n",
       "    }\n",
       "\n",
       "    .dataframe tbody tr th {\n",
       "        vertical-align: top;\n",
       "    }\n",
       "\n",
       "    .dataframe thead th {\n",
       "        text-align: right;\n",
       "    }\n",
       "</style>\n",
       "<table border=\"1\" class=\"dataframe\">\n",
       "  <thead>\n",
       "    <tr style=\"text-align: right;\">\n",
       "      <th></th>\n",
       "      <th>Name</th>\n",
       "      <th>Location</th>\n",
       "      <th>Year</th>\n",
       "      <th>Kilometers_Driven</th>\n",
       "      <th>Fuel_Type</th>\n",
       "      <th>Transmission</th>\n",
       "      <th>Owner_Type</th>\n",
       "      <th>Mileage</th>\n",
       "      <th>Engine</th>\n",
       "      <th>Power</th>\n",
       "      <th>Seats</th>\n",
       "      <th>New_Price</th>\n",
       "      <th>Price</th>\n",
       "      <th>Mileage_Value</th>\n",
       "      <th>Mileage_Unit</th>\n",
       "      <th>Engine_CC</th>\n",
       "      <th>Power_BHP</th>\n",
       "      <th>New_Price_Lakh</th>\n",
       "      <th>Age</th>\n",
       "    </tr>\n",
       "  </thead>\n",
       "  <tbody>\n",
       "    <tr>\n",
       "      <th>0</th>\n",
       "      <td>Maruti Wagon R LXI CNG</td>\n",
       "      <td>Mumbai</td>\n",
       "      <td>2010</td>\n",
       "      <td>72000</td>\n",
       "      <td>CNG</td>\n",
       "      <td>Manual</td>\n",
       "      <td>First</td>\n",
       "      <td>26.6 km/kg</td>\n",
       "      <td>998 CC</td>\n",
       "      <td>58.16 bhp</td>\n",
       "      <td>5.0</td>\n",
       "      <td>NaN</td>\n",
       "      <td>1.75</td>\n",
       "      <td>26.6</td>\n",
       "      <td>km/kg</td>\n",
       "      <td>998.0</td>\n",
       "      <td>58.16</td>\n",
       "      <td>NaN</td>\n",
       "      <td>15</td>\n",
       "    </tr>\n",
       "  </tbody>\n",
       "</table>\n",
       "</div>"
      ],
      "text/plain": [
       "                     Name Location  Year  Kilometers_Driven Fuel_Type  \\\n",
       "0  Maruti Wagon R LXI CNG   Mumbai  2010              72000       CNG   \n",
       "\n",
       "  Transmission Owner_Type     Mileage  Engine      Power  Seats New_Price  \\\n",
       "0       Manual      First  26.6 km/kg  998 CC  58.16 bhp    5.0       NaN   \n",
       "\n",
       "   Price  Mileage_Value Mileage_Unit  Engine_CC  Power_BHP  New_Price_Lakh  \\\n",
       "0   1.75           26.6        km/kg      998.0      58.16             NaN   \n",
       "\n",
       "   Age  \n",
       "0   15  "
      ]
     },
     "execution_count": 17,
     "metadata": {},
     "output_type": "execute_result"
    }
   ],
   "source": [
    "#возраст\n",
    "current_year = 2025\n",
    "df['Age'] = current_year - df['Year']\n",
    "df.head(1)"
   ]
  },
  {
   "cell_type": "code",
   "execution_count": 18,
   "id": "aef84452-54aa-46f0-acf6-fa08ff4cc04f",
   "metadata": {
    "execution": {
     "iopub.execute_input": "2025-05-06T20:57:11.405980Z",
     "iopub.status.busy": "2025-05-06T20:57:11.405612Z",
     "iopub.status.idle": "2025-05-06T20:57:11.425145Z",
     "shell.execute_reply": "2025-05-06T20:57:11.423799Z",
     "shell.execute_reply.started": "2025-05-06T20:57:11.405954Z"
    }
   },
   "outputs": [
    {
     "name": "stdout",
     "output_type": "stream",
     "text": [
      "Новые столбцы и их типы:\n",
      "Mileage_Value     float64\n",
      "Mileage_Unit       object\n",
      "Engine_CC         float64\n",
      "Power_BHP         float64\n",
      "New_Price_Lakh    float64\n",
      "Age                 int64\n",
      "dtype: object\n"
     ]
    }
   ],
   "source": [
    "print(\"Новые столбцы и их типы:\")\n",
    "print(df[['Mileage_Value','Mileage_Unit','Engine_CC','Power_BHP','New_Price_Lakh','Age']].dtypes)"
   ]
  },
  {
   "cell_type": "code",
   "execution_count": 19,
   "id": "09516ac5-0b94-4462-8960-79f4beb15e18",
   "metadata": {
    "execution": {
     "iopub.execute_input": "2025-05-06T20:57:11.426190Z",
     "iopub.status.busy": "2025-05-06T20:57:11.425891Z",
     "iopub.status.idle": "2025-05-06T20:57:11.448791Z",
     "shell.execute_reply": "2025-05-06T20:57:11.447549Z",
     "shell.execute_reply.started": "2025-05-06T20:57:11.426166Z"
    }
   },
   "outputs": [
    {
     "name": "stdout",
     "output_type": "stream",
     "text": [
      "Пропуски после парсинга:\n",
      "Mileage_Value      2\n",
      "Engine_CC         36\n",
      "Power_BHP        143\n",
      "Seats             42\n",
      "dtype: int64\n"
     ]
    }
   ],
   "source": [
    "print(\"Пропуски после парсинга:\")\n",
    "print(df[['Mileage_Value','Engine_CC','Power_BHP','Seats']].isnull().sum())"
   ]
  },
  {
   "cell_type": "code",
   "execution_count": 20,
   "id": "f3e88673-7a03-46aa-b97a-bd7de36f8f97",
   "metadata": {
    "execution": {
     "iopub.execute_input": "2025-05-06T20:57:11.451272Z",
     "iopub.status.busy": "2025-05-06T20:57:11.450360Z",
     "iopub.status.idle": "2025-05-06T20:57:11.478049Z",
     "shell.execute_reply": "2025-05-06T20:57:11.477206Z",
     "shell.execute_reply.started": "2025-05-06T20:57:11.451241Z"
    }
   },
   "outputs": [
    {
     "name": "stdout",
     "output_type": "stream",
     "text": [
      "<class 'pandas.core.frame.DataFrame'>\n",
      "RangeIndex: 6019 entries, 0 to 6018\n",
      "Data columns (total 19 columns):\n",
      " #   Column             Non-Null Count  Dtype  \n",
      "---  ------             --------------  -----  \n",
      " 0   Name               6019 non-null   object \n",
      " 1   Location           6019 non-null   object \n",
      " 2   Year               6019 non-null   int64  \n",
      " 3   Kilometers_Driven  6019 non-null   int64  \n",
      " 4   Fuel_Type          6019 non-null   object \n",
      " 5   Transmission       6019 non-null   object \n",
      " 6   Owner_Type         6019 non-null   object \n",
      " 7   Mileage            6017 non-null   object \n",
      " 8   Engine             5983 non-null   object \n",
      " 9   Power              5876 non-null   object \n",
      " 10  Seats              5977 non-null   float64\n",
      " 11  New_Price          824 non-null    object \n",
      " 12  Price              6019 non-null   float64\n",
      " 13  Mileage_Value      6017 non-null   float64\n",
      " 14  Mileage_Unit       6017 non-null   object \n",
      " 15  Engine_CC          5983 non-null   float64\n",
      " 16  Power_BHP          5876 non-null   float64\n",
      " 17  New_Price_Lakh     824 non-null    float64\n",
      " 18  Age                6019 non-null   int64  \n",
      "dtypes: float64(6), int64(3), object(10)\n",
      "memory usage: 893.6+ KB\n"
     ]
    }
   ],
   "source": [
    "df.info()"
   ]
  },
  {
   "cell_type": "markdown",
   "id": "0654de27-80b3-41b0-8f6a-c566ec8a2394",
   "metadata": {},
   "source": [
    "### Интерпретация результатов парсинга и стратегия обработки пропусков\n",
    "\n",
    "По результатам парсинга обнаружили:\n",
    "- **`New_Price`**: 5195 пропусков из 6019 (~86 %) → нецелесообразно использовать в модели напрямую.  \n",
    "- **Новопарсенные числовые признаки**:\n",
    "  - `Mileage_Value`: 2 пропуска  \n",
    "  - `Engine_CC`: 36 пропусков  \n",
    "  - `Power_BHP`: 36 пропусков  \n",
    "  - `Seats`: 42 пропуска  \n",
    "\n",
    "#### План дальнейших действий\n",
    "\n",
    "1. **Удаление/игнорирование `New_Price`**  \n",
    "   - Исключим эту колонку из обучающей выборки\n",
    "\n",
    "2. **Заполнение пропусков в числовых признаках**  \n",
    "   - Учитывая малую долю (< 1 %), заполним пропуски **медианой** внутри групп, например по бренду или типу топлива:\n",
    "     ```python\n",
    "     df['Engine_CC'] = df.groupby('Brand')['Engine_CC'].transform(lambda x: x.fillna(x.median()))\n",
    "     df['Power_BHP'] = df.groupby('Brand')['Power_BHP'].transform(lambda x: x.fillna(x.median()))\n",
    "     df['Mileage_Value'] = df.groupby('Fuel_Type')['Mileage_Value'].transform(lambda x: x.fillna(x.median()))\n",
    "     df['Seats'] = df['Seats'].fillna(df['Seats'].median())\n",
    "     ```\n",
    "3. **Нормализация категориальных признаков**  \n",
    "   - Сгруппировать близкие написания **брендов** (`rapidfuzz.process.extract` порог ≥ 90 %).  \n",
    "   - Привести к единому виду **`Location`** через fuzzy-match и ручную проверку.\n",
    "\n",
    "4. **Кодирование и отбор признаков**  \n",
    "   - One-hot / target-encoding для категорий (`Fuel_Type`, `Transmission`, `Owner_Type`, `Mileage_Unit`, нормализованные `Brand` и `Location`).  \n",
    "   - Отбор через RFE или L1-регуляризацию.\n",
    "\n",
    "5. **Следующие этапы**  \n",
    "   - **EDA**: распределения, корреляции, box-plots.  \n",
    "   - **Feature Engineering**: `Age`, `Specific_Power`, полиномиальные признаки.  \n",
    "   - **Моделирование**: baseline, линейные модели, ансамбли, бустинг (CV, гиперпараметры).  \n",
    "   - **Интерпретация**: SHAP, residual plots, мониторинг качества.\n",
    "\n"
   ]
  },
  {
   "cell_type": "markdown",
   "id": "8550e023-1e6e-4938-9971-cbb487b907ad",
   "metadata": {},
   "source": [
    "Удалим столбцы с новой ценой (всё же они не нужны)"
   ]
  },
  {
   "cell_type": "code",
   "execution_count": 21,
   "id": "f6871bbe-e640-4728-b540-6d764ec7664a",
   "metadata": {
    "execution": {
     "iopub.execute_input": "2025-05-06T20:57:11.479433Z",
     "iopub.status.busy": "2025-05-06T20:57:11.478958Z",
     "iopub.status.idle": "2025-05-06T20:57:11.497063Z",
     "shell.execute_reply": "2025-05-06T20:57:11.495900Z",
     "shell.execute_reply.started": "2025-05-06T20:57:11.479398Z"
    }
   },
   "outputs": [
    {
     "data": {
      "text/plain": [
       "Index(['Name', 'Location', 'Year', 'Kilometers_Driven', 'Fuel_Type',\n",
       "       'Transmission', 'Owner_Type', 'Mileage', 'Engine', 'Power', 'Seats',\n",
       "       'Price', 'Mileage_Value', 'Mileage_Unit', 'Engine_CC', 'Power_BHP',\n",
       "       'Age'],\n",
       "      dtype='object')"
      ]
     },
     "execution_count": 21,
     "metadata": {},
     "output_type": "execute_result"
    }
   ],
   "source": [
    "df = df.drop(columns=['New_Price', 'New_Price_Lakh'])\n",
    "df.columns"
   ]
  },
  {
   "cell_type": "code",
   "execution_count": 22,
   "id": "46a924d8-c0d2-4b93-a451-9a04d7278c6d",
   "metadata": {
    "execution": {
     "iopub.execute_input": "2025-05-06T20:57:11.498463Z",
     "iopub.status.busy": "2025-05-06T20:57:11.498074Z",
     "iopub.status.idle": "2025-05-06T20:57:11.648957Z",
     "shell.execute_reply": "2025-05-06T20:57:11.647915Z",
     "shell.execute_reply.started": "2025-05-06T20:57:11.498437Z"
    }
   },
   "outputs": [
    {
     "data": {
      "text/html": [
       "<div>\n",
       "<style scoped>\n",
       "    .dataframe tbody tr th:only-of-type {\n",
       "        vertical-align: middle;\n",
       "    }\n",
       "\n",
       "    .dataframe tbody tr th {\n",
       "        vertical-align: top;\n",
       "    }\n",
       "\n",
       "    .dataframe thead th {\n",
       "        text-align: right;\n",
       "    }\n",
       "</style>\n",
       "<table border=\"1\" class=\"dataframe\">\n",
       "  <thead>\n",
       "    <tr style=\"text-align: right;\">\n",
       "      <th></th>\n",
       "      <th>Name</th>\n",
       "      <th>Location</th>\n",
       "      <th>Year</th>\n",
       "      <th>Kilometers_Driven</th>\n",
       "      <th>Fuel_Type</th>\n",
       "      <th>Transmission</th>\n",
       "      <th>Owner_Type</th>\n",
       "      <th>Mileage</th>\n",
       "      <th>Engine</th>\n",
       "      <th>Power</th>\n",
       "      <th>Seats</th>\n",
       "      <th>Price</th>\n",
       "      <th>Mileage_Value</th>\n",
       "      <th>Mileage_Unit</th>\n",
       "      <th>Engine_CC</th>\n",
       "      <th>Power_BHP</th>\n",
       "      <th>Age</th>\n",
       "      <th>Brand</th>\n",
       "    </tr>\n",
       "  </thead>\n",
       "  <tbody>\n",
       "    <tr>\n",
       "      <th>5507</th>\n",
       "      <td>Maruti Dzire LDI</td>\n",
       "      <td>Pune</td>\n",
       "      <td>2017</td>\n",
       "      <td>48000</td>\n",
       "      <td>Diesel</td>\n",
       "      <td>Manual</td>\n",
       "      <td>First</td>\n",
       "      <td>28.4 kmpl</td>\n",
       "      <td>1248 CC</td>\n",
       "      <td>73.75 bhp</td>\n",
       "      <td>5.0</td>\n",
       "      <td>6.0</td>\n",
       "      <td>28.4</td>\n",
       "      <td>kmpl</td>\n",
       "      <td>1248.0</td>\n",
       "      <td>73.75</td>\n",
       "      <td>8</td>\n",
       "      <td>Maruti</td>\n",
       "    </tr>\n",
       "  </tbody>\n",
       "</table>\n",
       "</div>"
      ],
      "text/plain": [
       "                  Name Location  Year  Kilometers_Driven Fuel_Type  \\\n",
       "5507  Maruti Dzire LDI     Pune  2017              48000    Diesel   \n",
       "\n",
       "     Transmission Owner_Type    Mileage   Engine      Power  Seats  Price  \\\n",
       "5507       Manual      First  28.4 kmpl  1248 CC  73.75 bhp    5.0    6.0   \n",
       "\n",
       "      Mileage_Value Mileage_Unit  Engine_CC  Power_BHP  Age   Brand  \n",
       "5507           28.4         kmpl     1248.0      73.75    8  Maruti  "
      ]
     },
     "execution_count": 22,
     "metadata": {},
     "output_type": "execute_result"
    }
   ],
   "source": [
    "df['Brand'] = df['Name'].str.split().str[0]\n",
    "df.sample(1)"
   ]
  },
  {
   "cell_type": "markdown",
   "id": "6af2ebce-6097-487f-ad65-43c580b8704b",
   "metadata": {},
   "source": [
    "Заполним пропуски медианой внутри группы"
   ]
  },
  {
   "cell_type": "code",
   "execution_count": 23,
   "id": "1962da9e-e383-4de8-95fc-6a70dc0ed4a0",
   "metadata": {
    "execution": {
     "iopub.execute_input": "2025-05-06T20:57:11.650506Z",
     "iopub.status.busy": "2025-05-06T20:57:11.650156Z",
     "iopub.status.idle": "2025-05-06T20:57:11.690449Z",
     "shell.execute_reply": "2025-05-06T20:57:11.689571Z",
     "shell.execute_reply.started": "2025-05-06T20:57:11.650483Z"
    }
   },
   "outputs": [],
   "source": [
    "df['Engine_CC'] = df.groupby('Brand')['Engine_CC'].transform(\n",
    "    lambda x: x.fillna(x.median())\n",
    ")\n",
    "df['Power_BHP'] = df.groupby('Brand')['Power_BHP'].transform(\n",
    "    lambda x: x.fillna(x.median())\n",
    ")\n",
    "df['Mileage_Value'] = df.groupby('Fuel_Type')['Mileage_Value'].transform(\n",
    "    lambda x: x.fillna(x.median())\n",
    ")\n",
    "df['Seats'] = df['Seats'].fillna(df['Seats'].median())"
   ]
  },
  {
   "cell_type": "code",
   "execution_count": 24,
   "id": "6b9cdb80-02ba-47e0-b1ae-ba1eebfc2c05",
   "metadata": {
    "execution": {
     "iopub.execute_input": "2025-05-06T20:57:11.691397Z",
     "iopub.status.busy": "2025-05-06T20:57:11.691120Z",
     "iopub.status.idle": "2025-05-06T20:57:11.703904Z",
     "shell.execute_reply": "2025-05-06T20:57:11.703186Z",
     "shell.execute_reply.started": "2025-05-06T20:57:11.691376Z"
    }
   },
   "outputs": [
    {
     "data": {
      "text/plain": [
       "Name                   0\n",
       "Location               0\n",
       "Year                   0\n",
       "Kilometers_Driven      0\n",
       "Fuel_Type              0\n",
       "Transmission           0\n",
       "Owner_Type             0\n",
       "Mileage                2\n",
       "Engine                36\n",
       "Power                143\n",
       "Seats                  0\n",
       "Price                  0\n",
       "Mileage_Value          2\n",
       "Mileage_Unit           2\n",
       "Engine_CC              0\n",
       "Power_BHP              1\n",
       "Age                    0\n",
       "Brand                  0\n",
       "dtype: int64"
      ]
     },
     "execution_count": 24,
     "metadata": {},
     "output_type": "execute_result"
    }
   ],
   "source": [
    "df.isna().sum()"
   ]
  },
  {
   "cell_type": "markdown",
   "id": "86311a81-432d-4cf6-9a27-48af6317bdf8",
   "metadata": {},
   "source": [
    "Остались столбцы с пропусками. Посмотрим на их количество и по возможноссти удалим"
   ]
  },
  {
   "cell_type": "code",
   "execution_count": 25,
   "id": "a51f0250-b0fc-48c2-893c-267735d3bbc1",
   "metadata": {
    "execution": {
     "iopub.execute_input": "2025-05-06T20:57:11.705282Z",
     "iopub.status.busy": "2025-05-06T20:57:11.704886Z",
     "iopub.status.idle": "2025-05-06T20:57:11.732823Z",
     "shell.execute_reply": "2025-05-06T20:57:11.731753Z",
     "shell.execute_reply.started": "2025-05-06T20:57:11.705260Z"
    }
   },
   "outputs": [
    {
     "name": "stdout",
     "output_type": "stream",
     "text": [
      "Удалено строк: 145 из 6019 (2.41% от всех данных)\n"
     ]
    }
   ],
   "source": [
    "initial_shape = df.shape\n",
    "df = df.dropna(subset=['Mileage', 'Engine', 'Power', 'Mileage_Value', 'Mileage_Unit', 'Power_BHP'])\n",
    "dropped = initial_shape[0] - df.shape[0]\n",
    "print(f\"Удалено строк: {dropped} из {initial_shape[0]} \"\n",
    "      f\"({dropped/initial_shape[0]*100:.2f}% от всех данных)\")"
   ]
  },
  {
   "cell_type": "code",
   "execution_count": 26,
   "id": "aec6b638-d9fc-481e-a503-57cd72421e05",
   "metadata": {
    "execution": {
     "iopub.execute_input": "2025-05-06T20:57:11.734333Z",
     "iopub.status.busy": "2025-05-06T20:57:11.734025Z",
     "iopub.status.idle": "2025-05-06T20:57:11.753448Z",
     "shell.execute_reply": "2025-05-06T20:57:11.752544Z",
     "shell.execute_reply.started": "2025-05-06T20:57:11.734312Z"
    }
   },
   "outputs": [
    {
     "data": {
      "text/plain": [
       "Name                 0\n",
       "Location             0\n",
       "Year                 0\n",
       "Kilometers_Driven    0\n",
       "Fuel_Type            0\n",
       "Transmission         0\n",
       "Owner_Type           0\n",
       "Mileage              0\n",
       "Engine               0\n",
       "Power                0\n",
       "Seats                0\n",
       "Price                0\n",
       "Mileage_Value        0\n",
       "Mileage_Unit         0\n",
       "Engine_CC            0\n",
       "Power_BHP            0\n",
       "Age                  0\n",
       "Brand                0\n",
       "dtype: int64"
      ]
     },
     "execution_count": 26,
     "metadata": {},
     "output_type": "execute_result"
    }
   ],
   "source": [
    "df.isna().sum()"
   ]
  },
  {
   "cell_type": "markdown",
   "id": "8f15656c-7105-4bff-9b48-6dd9ad4af78f",
   "metadata": {},
   "source": [
    "### Обоснование удаления строк с пропусками\n",
    "\n",
    "- Всего удалено **`145`** из **`6019`**, что составляет лишь **менее 3%** от набора данных.\n",
    "- Доля этих строк настолько мала, что их исключение **не повлияет** на общее распределение и статистику.\n",
    "- Удаление строк с пропусками упрощает последующую работу (нормализация категорий, кодирование, EDA, моделирование) без искажения выборки.\n",
    "\n",
    "> Далее продолжим с нормализацией категорий (`Brand`, `Location`) с помощью **rapidfuzz** и кодированием признаков. Летс го\n"
   ]
  },
  {
   "cell_type": "markdown",
   "id": "67cc5970-4aba-4c67-bfe3-c2448f7ec971",
   "metadata": {},
   "source": [
    "## Нормализация данных с fuzzy matching, неявная проверка дубликатов"
   ]
  },
  {
   "cell_type": "markdown",
   "id": "6e400b86-9957-4ab6-8527-c11c923ce0db",
   "metadata": {},
   "source": [
    "### Нормализация брендов"
   ]
  },
  {
   "cell_type": "code",
   "execution_count": 27,
   "id": "a9da75eb-c22c-46c6-a61f-0f5b79c0cd85",
   "metadata": {
    "execution": {
     "iopub.execute_input": "2025-05-06T20:57:11.754934Z",
     "iopub.status.busy": "2025-05-06T20:57:11.754566Z",
     "iopub.status.idle": "2025-05-06T20:57:11.772301Z",
     "shell.execute_reply": "2025-05-06T20:57:11.771340Z",
     "shell.execute_reply.started": "2025-05-06T20:57:11.754903Z"
    }
   },
   "outputs": [
    {
     "data": {
      "text/plain": [
       "['Maruti',\n",
       " 'Hyundai',\n",
       " 'Honda',\n",
       " 'Audi',\n",
       " 'Nissan',\n",
       " 'Toyota',\n",
       " 'Volkswagen',\n",
       " 'Tata',\n",
       " 'Land',\n",
       " 'Mitsubishi',\n",
       " 'Renault',\n",
       " 'Mercedes-Benz',\n",
       " 'BMW',\n",
       " 'Mahindra',\n",
       " 'Ford',\n",
       " 'Porsche',\n",
       " 'Datsun',\n",
       " 'Jaguar',\n",
       " 'Volvo',\n",
       " 'Chevrolet',\n",
       " 'Skoda',\n",
       " 'Mini',\n",
       " 'Fiat',\n",
       " 'Jeep',\n",
       " 'Ambassador',\n",
       " 'Isuzu',\n",
       " 'ISUZU',\n",
       " 'Force',\n",
       " 'Bentley',\n",
       " 'Lamborghini']"
      ]
     },
     "execution_count": 27,
     "metadata": {},
     "output_type": "execute_result"
    }
   ],
   "source": [
    "unique_brands = df['Brand'].unique().tolist()\n",
    "unique_brands"
   ]
  },
  {
   "cell_type": "code",
   "execution_count": 28,
   "id": "9b709ec6-1e74-4321-83cd-eaaa21d5a7ba",
   "metadata": {
    "execution": {
     "iopub.execute_input": "2025-05-06T20:57:11.773680Z",
     "iopub.status.busy": "2025-05-06T20:57:11.773435Z",
     "iopub.status.idle": "2025-05-06T20:57:11.792026Z",
     "shell.execute_reply": "2025-05-06T20:57:11.791079Z",
     "shell.execute_reply.started": "2025-05-06T20:57:11.773662Z"
    }
   },
   "outputs": [],
   "source": [
    "canonical_brands = []\n",
    "brand_mapping = {}\n",
    "\n",
    "for brand in unique_brands:\n",
    "    if not canonical_brands:\n",
    "        canonical_brands.append(brand)\n",
    "        brand_mapping[brand] = brand\n",
    "    else:\n",
    "        match, score, _ = process.extractOne(brand, canonical_brands, scorer=fuzz.token_sort_ratio)\n",
    "        if score >= 80:\n",
    "            brand_mapping[brand] = match\n",
    "        else:\n",
    "            canonical_brands.append(brand)\n",
    "            brand_mapping[brand] = brand"
   ]
  },
  {
   "cell_type": "code",
   "execution_count": 29,
   "id": "ac5b15dc-ab2d-43af-8ddb-985f04156730",
   "metadata": {
    "execution": {
     "iopub.execute_input": "2025-05-06T20:57:11.793264Z",
     "iopub.status.busy": "2025-05-06T20:57:11.792951Z",
     "iopub.status.idle": "2025-05-06T20:57:11.819895Z",
     "shell.execute_reply": "2025-05-06T20:57:11.818811Z",
     "shell.execute_reply.started": "2025-05-06T20:57:11.793242Z"
    }
   },
   "outputs": [
    {
     "name": "stdout",
     "output_type": "stream",
     "text": [
      "Брендов до нормализации: 30\n",
      "Канонических брендов после: 30\n"
     ]
    }
   ],
   "source": [
    "df['Brand_Canonical'] = df['Brand'].map(brand_mapping)\n",
    "\n",
    "print(\"Брендов до нормализации:\", len(unique_brands))\n",
    "print(\"Канонических брендов после:\", len(canonical_brands))"
   ]
  },
  {
   "cell_type": "markdown",
   "id": "1597d350-964d-40ec-a21a-a00fdbd48faf",
   "metadata": {},
   "source": [
    "### Нормализация локации"
   ]
  },
  {
   "cell_type": "code",
   "execution_count": 30,
   "id": "db192d2c-7557-440e-b92f-ea0eddd87a5d",
   "metadata": {
    "execution": {
     "iopub.execute_input": "2025-05-06T20:57:11.821437Z",
     "iopub.status.busy": "2025-05-06T20:57:11.821080Z",
     "iopub.status.idle": "2025-05-06T20:57:11.840648Z",
     "shell.execute_reply": "2025-05-06T20:57:11.839577Z",
     "shell.execute_reply.started": "2025-05-06T20:57:11.821405Z"
    }
   },
   "outputs": [
    {
     "data": {
      "text/plain": [
       "['Mumbai',\n",
       " 'Pune',\n",
       " 'Chennai',\n",
       " 'Coimbatore',\n",
       " 'Hyderabad',\n",
       " 'Jaipur',\n",
       " 'Kochi',\n",
       " 'Kolkata',\n",
       " 'Delhi',\n",
       " 'Bangalore',\n",
       " 'Ahmedabad']"
      ]
     },
     "execution_count": 30,
     "metadata": {},
     "output_type": "execute_result"
    }
   ],
   "source": [
    "unique_locs = df['Location'].unique().tolist()\n",
    "unique_locs"
   ]
  },
  {
   "cell_type": "code",
   "execution_count": 31,
   "id": "3cc8c8f9-364c-437d-9d40-c57844dbdbd9",
   "metadata": {
    "execution": {
     "iopub.execute_input": "2025-05-06T20:57:11.842168Z",
     "iopub.status.busy": "2025-05-06T20:57:11.841784Z",
     "iopub.status.idle": "2025-05-06T20:57:11.855407Z",
     "shell.execute_reply": "2025-05-06T20:57:11.854465Z",
     "shell.execute_reply.started": "2025-05-06T20:57:11.842138Z"
    }
   },
   "outputs": [],
   "source": [
    "canonical_locs = []\n",
    "loc_mapping = {}"
   ]
  },
  {
   "cell_type": "code",
   "execution_count": 32,
   "id": "2f44a32e-3230-480e-ba6d-4486a2cdcb0f",
   "metadata": {
    "execution": {
     "iopub.execute_input": "2025-05-06T20:57:11.856725Z",
     "iopub.status.busy": "2025-05-06T20:57:11.856401Z",
     "iopub.status.idle": "2025-05-06T20:57:11.874327Z",
     "shell.execute_reply": "2025-05-06T20:57:11.873357Z",
     "shell.execute_reply.started": "2025-05-06T20:57:11.856697Z"
    }
   },
   "outputs": [],
   "source": [
    "for loc in unique_locs:\n",
    "    if not canonical_locs:\n",
    "        canonical_locs.append(loc)\n",
    "        loc_mapping[loc] = loc\n",
    "    else:\n",
    "        match, score, _ = process.extractOne(loc, canonical_locs, scorer=fuzz.token_sort_ratio)\n",
    "        if score >= 80:\n",
    "            loc_mapping[loc] = match\n",
    "        else:\n",
    "            canonical_locs.append(loc)\n",
    "            loc_mapping[loc] = loc"
   ]
  },
  {
   "cell_type": "code",
   "execution_count": 33,
   "id": "b20f43c9-7fb5-4dad-be44-35a3c731d102",
   "metadata": {
    "execution": {
     "iopub.execute_input": "2025-05-06T20:57:11.876400Z",
     "iopub.status.busy": "2025-05-06T20:57:11.875993Z",
     "iopub.status.idle": "2025-05-06T20:57:11.897041Z",
     "shell.execute_reply": "2025-05-06T20:57:11.895836Z",
     "shell.execute_reply.started": "2025-05-06T20:57:11.876374Z"
    }
   },
   "outputs": [
    {
     "name": "stdout",
     "output_type": "stream",
     "text": [
      "Локаций до нормализации: 11\n",
      "Канонических локаций после: 11\n"
     ]
    }
   ],
   "source": [
    "df['Location_Canonical'] = df['Location'].map(loc_mapping)\n",
    "\n",
    "print(\"Локаций до нормализации:\", len(unique_locs))\n",
    "print(\"Канонических локаций после:\", len(canonical_locs))"
   ]
  },
  {
   "cell_type": "markdown",
   "id": "fe8ea34d-590c-4829-9b57-f5db3a2d6b0a",
   "metadata": {},
   "source": [
    "### Обоснование применения fuzzy matching для Brand и Location\n",
    "\n",
    "- **Неявная проверка дубликатов**  \n",
    "  Мы специально использовали fuzzy matching, чтобы автоматически находить и объединять «скрытые» дубликаты - бренды и локации, записанные по-разному (опечатки, разные формулировки, вариации транслитерации).\n",
    "\n",
    "- **Ускоренная стандартизация**  \n",
    "  Вместо ручного просмотра всех уникальных значений, алгоритм быстро выявляет похожие строки (сходство ≥ 80 %) и маппит их на единый «канонический» вариант.\n",
    "\n",
    "- **Снижение шума и кардинальности**  \n",
    "  Объединяя почти идентичные категории, мы уменьшаем число уникальных значений, что упрощает последующее кодирование (one-hot или target-encoding) и снижает риск распыления статистики по редким «мелким» группам.\n",
    "\n",
    "- **Повышение качества модели**  \n",
    "  Стандартизованные категории позволяют алгоритму учиться на более чистых данных, что улучшает устойчивость прогноза и уменьшает вероятность переобучения на случайных вариациях названий.\n"
   ]
  },
  {
   "cell_type": "markdown",
   "id": "d26fe7a2-6fa9-4bd7-8559-b494175d7f38",
   "metadata": {},
   "source": [
    "## Кодирование категориальных признаков"
   ]
  },
  {
   "cell_type": "code",
   "execution_count": 34,
   "id": "15bea641-31bc-4944-a9dd-cb462ed3348e",
   "metadata": {
    "execution": {
     "iopub.execute_input": "2025-05-06T20:57:11.898495Z",
     "iopub.status.busy": "2025-05-06T20:57:11.898143Z",
     "iopub.status.idle": "2025-05-06T20:57:11.929050Z",
     "shell.execute_reply": "2025-05-06T20:57:11.927836Z",
     "shell.execute_reply.started": "2025-05-06T20:57:11.898458Z"
    }
   },
   "outputs": [
    {
     "name": "stdout",
     "output_type": "stream",
     "text": [
      "<class 'pandas.core.frame.DataFrame'>\n",
      "Index: 5874 entries, 0 to 6018\n",
      "Data columns (total 20 columns):\n",
      " #   Column              Non-Null Count  Dtype  \n",
      "---  ------              --------------  -----  \n",
      " 0   Name                5874 non-null   object \n",
      " 1   Location            5874 non-null   object \n",
      " 2   Year                5874 non-null   int64  \n",
      " 3   Kilometers_Driven   5874 non-null   int64  \n",
      " 4   Fuel_Type           5874 non-null   object \n",
      " 5   Transmission        5874 non-null   object \n",
      " 6   Owner_Type          5874 non-null   object \n",
      " 7   Mileage             5874 non-null   object \n",
      " 8   Engine              5874 non-null   object \n",
      " 9   Power               5874 non-null   object \n",
      " 10  Seats               5874 non-null   float64\n",
      " 11  Price               5874 non-null   float64\n",
      " 12  Mileage_Value       5874 non-null   float64\n",
      " 13  Mileage_Unit        5874 non-null   object \n",
      " 14  Engine_CC           5874 non-null   float64\n",
      " 15  Power_BHP           5874 non-null   float64\n",
      " 16  Age                 5874 non-null   int64  \n",
      " 17  Brand               5874 non-null   object \n",
      " 18  Brand_Canonical     5874 non-null   object \n",
      " 19  Location_Canonical  5874 non-null   object \n",
      "dtypes: float64(5), int64(3), object(12)\n",
      "memory usage: 963.7+ KB\n"
     ]
    }
   ],
   "source": [
    "df.info()"
   ]
  },
  {
   "cell_type": "markdown",
   "id": "4ac95b35-cd61-4c1c-9cc6-f06ba071da23",
   "metadata": {},
   "source": [
    "## Кодирование категориальных переменных"
   ]
  },
  {
   "cell_type": "markdown",
   "id": "2b68db20-cc5b-4659-8ef9-95691bb4a5f3",
   "metadata": {},
   "source": [
    "One-hot для признаков с небольшой кардинальностью"
   ]
  },
  {
   "cell_type": "code",
   "execution_count": 35,
   "id": "40f54c61-08bc-4f73-a0aa-d1bea9e216ec",
   "metadata": {
    "execution": {
     "iopub.execute_input": "2025-05-06T20:57:11.931622Z",
     "iopub.status.busy": "2025-05-06T20:57:11.930482Z",
     "iopub.status.idle": "2025-05-06T20:57:11.947576Z",
     "shell.execute_reply": "2025-05-06T20:57:11.946385Z",
     "shell.execute_reply.started": "2025-05-06T20:57:11.931582Z"
    }
   },
   "outputs": [],
   "source": [
    "low_card_cols = ['Fuel_Type', 'Transmission', 'Owner_Type', 'Mileage_Unit']\n",
    "df_encoded = pd.get_dummies(df, columns=low_card_cols, drop_first=True)"
   ]
  },
  {
   "cell_type": "markdown",
   "id": "00ad8f2a-8b71-45f9-891c-e961af34cdc4",
   "metadata": {},
   "source": [
    "Target-encoding для Brand_Canonical и Location_Canonical (создаёт числовые признаки — средняя цена для каждой категории)\n"
   ]
  },
  {
   "cell_type": "code",
   "execution_count": 36,
   "id": "add83516-e99e-426e-9956-bf44869be2ab",
   "metadata": {
    "execution": {
     "iopub.execute_input": "2025-05-06T20:57:11.950074Z",
     "iopub.status.busy": "2025-05-06T20:57:11.948975Z",
     "iopub.status.idle": "2025-05-06T20:57:11.978743Z",
     "shell.execute_reply": "2025-05-06T20:57:11.977791Z",
     "shell.execute_reply.started": "2025-05-06T20:57:11.950033Z"
    }
   },
   "outputs": [
    {
     "data": {
      "text/html": [
       "<div>\n",
       "<style scoped>\n",
       "    .dataframe tbody tr th:only-of-type {\n",
       "        vertical-align: middle;\n",
       "    }\n",
       "\n",
       "    .dataframe tbody tr th {\n",
       "        vertical-align: top;\n",
       "    }\n",
       "\n",
       "    .dataframe thead th {\n",
       "        text-align: right;\n",
       "    }\n",
       "</style>\n",
       "<table border=\"1\" class=\"dataframe\">\n",
       "  <thead>\n",
       "    <tr style=\"text-align: right;\">\n",
       "      <th></th>\n",
       "      <th>Name</th>\n",
       "      <th>Location</th>\n",
       "      <th>Year</th>\n",
       "      <th>Kilometers_Driven</th>\n",
       "      <th>Mileage</th>\n",
       "      <th>Engine</th>\n",
       "      <th>Power</th>\n",
       "      <th>Seats</th>\n",
       "      <th>Price</th>\n",
       "      <th>Mileage_Value</th>\n",
       "      <th>Engine_CC</th>\n",
       "      <th>Power_BHP</th>\n",
       "      <th>Age</th>\n",
       "      <th>Brand</th>\n",
       "      <th>Brand_Canonical</th>\n",
       "      <th>Location_Canonical</th>\n",
       "      <th>Fuel_Type_Diesel</th>\n",
       "      <th>Fuel_Type_LPG</th>\n",
       "      <th>Fuel_Type_Petrol</th>\n",
       "      <th>Transmission_Manual</th>\n",
       "      <th>Owner_Type_Fourth &amp; Above</th>\n",
       "      <th>Owner_Type_Second</th>\n",
       "      <th>Owner_Type_Third</th>\n",
       "      <th>Mileage_Unit_kmpl</th>\n",
       "      <th>Brand_TE</th>\n",
       "      <th>Location_TE</th>\n",
       "    </tr>\n",
       "  </thead>\n",
       "  <tbody>\n",
       "    <tr>\n",
       "      <th>0</th>\n",
       "      <td>Maruti Wagon R LXI CNG</td>\n",
       "      <td>Mumbai</td>\n",
       "      <td>2010</td>\n",
       "      <td>72000</td>\n",
       "      <td>26.6 km/kg</td>\n",
       "      <td>998 CC</td>\n",
       "      <td>58.16 bhp</td>\n",
       "      <td>5.0</td>\n",
       "      <td>1.75</td>\n",
       "      <td>26.60</td>\n",
       "      <td>998.0</td>\n",
       "      <td>58.16</td>\n",
       "      <td>15</td>\n",
       "      <td>Maruti</td>\n",
       "      <td>Maruti</td>\n",
       "      <td>Mumbai</td>\n",
       "      <td>False</td>\n",
       "      <td>False</td>\n",
       "      <td>False</td>\n",
       "      <td>True</td>\n",
       "      <td>False</td>\n",
       "      <td>False</td>\n",
       "      <td>False</td>\n",
       "      <td>False</td>\n",
       "      <td>4.554868</td>\n",
       "      <td>9.436606</td>\n",
       "    </tr>\n",
       "    <tr>\n",
       "      <th>1</th>\n",
       "      <td>Hyundai Creta 1.6 CRDi SX Option</td>\n",
       "      <td>Pune</td>\n",
       "      <td>2015</td>\n",
       "      <td>41000</td>\n",
       "      <td>19.67 kmpl</td>\n",
       "      <td>1582 CC</td>\n",
       "      <td>126.2 bhp</td>\n",
       "      <td>5.0</td>\n",
       "      <td>12.50</td>\n",
       "      <td>19.67</td>\n",
       "      <td>1582.0</td>\n",
       "      <td>126.20</td>\n",
       "      <td>10</td>\n",
       "      <td>Hyundai</td>\n",
       "      <td>Hyundai</td>\n",
       "      <td>Pune</td>\n",
       "      <td>True</td>\n",
       "      <td>False</td>\n",
       "      <td>False</td>\n",
       "      <td>True</td>\n",
       "      <td>False</td>\n",
       "      <td>False</td>\n",
       "      <td>False</td>\n",
       "      <td>True</td>\n",
       "      <td>5.513715</td>\n",
       "      <td>6.904545</td>\n",
       "    </tr>\n",
       "    <tr>\n",
       "      <th>2</th>\n",
       "      <td>Honda Jazz V</td>\n",
       "      <td>Chennai</td>\n",
       "      <td>2011</td>\n",
       "      <td>46000</td>\n",
       "      <td>18.2 kmpl</td>\n",
       "      <td>1199 CC</td>\n",
       "      <td>88.7 bhp</td>\n",
       "      <td>5.0</td>\n",
       "      <td>4.50</td>\n",
       "      <td>18.20</td>\n",
       "      <td>1199.0</td>\n",
       "      <td>88.70</td>\n",
       "      <td>14</td>\n",
       "      <td>Honda</td>\n",
       "      <td>Honda</td>\n",
       "      <td>Chennai</td>\n",
       "      <td>False</td>\n",
       "      <td>False</td>\n",
       "      <td>True</td>\n",
       "      <td>True</td>\n",
       "      <td>False</td>\n",
       "      <td>False</td>\n",
       "      <td>False</td>\n",
       "      <td>True</td>\n",
       "      <td>5.417970</td>\n",
       "      <td>7.944580</td>\n",
       "    </tr>\n",
       "    <tr>\n",
       "      <th>3</th>\n",
       "      <td>Maruti Ertiga VDI</td>\n",
       "      <td>Chennai</td>\n",
       "      <td>2012</td>\n",
       "      <td>87000</td>\n",
       "      <td>20.77 kmpl</td>\n",
       "      <td>1248 CC</td>\n",
       "      <td>88.76 bhp</td>\n",
       "      <td>7.0</td>\n",
       "      <td>6.00</td>\n",
       "      <td>20.77</td>\n",
       "      <td>1248.0</td>\n",
       "      <td>88.76</td>\n",
       "      <td>13</td>\n",
       "      <td>Maruti</td>\n",
       "      <td>Maruti</td>\n",
       "      <td>Chennai</td>\n",
       "      <td>True</td>\n",
       "      <td>False</td>\n",
       "      <td>False</td>\n",
       "      <td>True</td>\n",
       "      <td>False</td>\n",
       "      <td>False</td>\n",
       "      <td>False</td>\n",
       "      <td>True</td>\n",
       "      <td>4.554868</td>\n",
       "      <td>7.944580</td>\n",
       "    </tr>\n",
       "    <tr>\n",
       "      <th>4</th>\n",
       "      <td>Audi A4 New 2.0 TDI Multitronic</td>\n",
       "      <td>Coimbatore</td>\n",
       "      <td>2013</td>\n",
       "      <td>40670</td>\n",
       "      <td>15.2 kmpl</td>\n",
       "      <td>1968 CC</td>\n",
       "      <td>140.8 bhp</td>\n",
       "      <td>5.0</td>\n",
       "      <td>17.74</td>\n",
       "      <td>15.20</td>\n",
       "      <td>1968.0</td>\n",
       "      <td>140.80</td>\n",
       "      <td>12</td>\n",
       "      <td>Audi</td>\n",
       "      <td>Audi</td>\n",
       "      <td>Coimbatore</td>\n",
       "      <td>True</td>\n",
       "      <td>False</td>\n",
       "      <td>False</td>\n",
       "      <td>False</td>\n",
       "      <td>False</td>\n",
       "      <td>True</td>\n",
       "      <td>False</td>\n",
       "      <td>True</td>\n",
       "      <td>25.569787</td>\n",
       "      <td>15.140350</td>\n",
       "    </tr>\n",
       "  </tbody>\n",
       "</table>\n",
       "</div>"
      ],
      "text/plain": [
       "                               Name    Location  Year  Kilometers_Driven  \\\n",
       "0            Maruti Wagon R LXI CNG      Mumbai  2010              72000   \n",
       "1  Hyundai Creta 1.6 CRDi SX Option        Pune  2015              41000   \n",
       "2                      Honda Jazz V     Chennai  2011              46000   \n",
       "3                 Maruti Ertiga VDI     Chennai  2012              87000   \n",
       "4   Audi A4 New 2.0 TDI Multitronic  Coimbatore  2013              40670   \n",
       "\n",
       "      Mileage   Engine      Power  Seats  Price  Mileage_Value  Engine_CC  \\\n",
       "0  26.6 km/kg   998 CC  58.16 bhp    5.0   1.75          26.60      998.0   \n",
       "1  19.67 kmpl  1582 CC  126.2 bhp    5.0  12.50          19.67     1582.0   \n",
       "2   18.2 kmpl  1199 CC   88.7 bhp    5.0   4.50          18.20     1199.0   \n",
       "3  20.77 kmpl  1248 CC  88.76 bhp    7.0   6.00          20.77     1248.0   \n",
       "4   15.2 kmpl  1968 CC  140.8 bhp    5.0  17.74          15.20     1968.0   \n",
       "\n",
       "   Power_BHP  Age    Brand Brand_Canonical Location_Canonical  \\\n",
       "0      58.16   15   Maruti          Maruti             Mumbai   \n",
       "1     126.20   10  Hyundai         Hyundai               Pune   \n",
       "2      88.70   14    Honda           Honda            Chennai   \n",
       "3      88.76   13   Maruti          Maruti            Chennai   \n",
       "4     140.80   12     Audi            Audi         Coimbatore   \n",
       "\n",
       "   Fuel_Type_Diesel  Fuel_Type_LPG  Fuel_Type_Petrol  Transmission_Manual  \\\n",
       "0             False          False             False                 True   \n",
       "1              True          False             False                 True   \n",
       "2             False          False              True                 True   \n",
       "3              True          False             False                 True   \n",
       "4              True          False             False                False   \n",
       "\n",
       "   Owner_Type_Fourth & Above  Owner_Type_Second  Owner_Type_Third  \\\n",
       "0                      False              False             False   \n",
       "1                      False              False             False   \n",
       "2                      False              False             False   \n",
       "3                      False              False             False   \n",
       "4                      False               True             False   \n",
       "\n",
       "   Mileage_Unit_kmpl   Brand_TE  Location_TE  \n",
       "0              False   4.554868     9.436606  \n",
       "1               True   5.513715     6.904545  \n",
       "2               True   5.417970     7.944580  \n",
       "3               True   4.554868     7.944580  \n",
       "4               True  25.569787    15.140350  "
      ]
     },
     "execution_count": 36,
     "metadata": {},
     "output_type": "execute_result"
    }
   ],
   "source": [
    "brand_mean = df.groupby('Brand_Canonical')['Price'].mean()\n",
    "loc_mean   = df.groupby('Location_Canonical')['Price'].mean()\n",
    "\n",
    "df_encoded['Brand_TE'] = df['Brand_Canonical'].map(brand_mean)\n",
    "df_encoded['Location_TE'] = df['Location_Canonical'].map(loc_mean)\n",
    "\n",
    "df_encoded.head()"
   ]
  },
  {
   "cell_type": "markdown",
   "id": "d84d0179-e266-4008-b2f5-de25fa4da524",
   "metadata": {},
   "source": [
    "Удалим текстовые колонки после кодирования"
   ]
  },
  {
   "cell_type": "code",
   "execution_count": 37,
   "id": "d65d4867-c8be-4620-96a5-f3208591b0b9",
   "metadata": {
    "execution": {
     "iopub.execute_input": "2025-05-06T20:57:11.980034Z",
     "iopub.status.busy": "2025-05-06T20:57:11.979734Z",
     "iopub.status.idle": "2025-05-06T20:57:12.000575Z",
     "shell.execute_reply": "2025-05-06T20:57:11.999118Z",
     "shell.execute_reply.started": "2025-05-06T20:57:11.979990Z"
    }
   },
   "outputs": [
    {
     "data": {
      "text/html": [
       "<div>\n",
       "<style scoped>\n",
       "    .dataframe tbody tr th:only-of-type {\n",
       "        vertical-align: middle;\n",
       "    }\n",
       "\n",
       "    .dataframe tbody tr th {\n",
       "        vertical-align: top;\n",
       "    }\n",
       "\n",
       "    .dataframe thead th {\n",
       "        text-align: right;\n",
       "    }\n",
       "</style>\n",
       "<table border=\"1\" class=\"dataframe\">\n",
       "  <thead>\n",
       "    <tr style=\"text-align: right;\">\n",
       "      <th></th>\n",
       "      <th>Year</th>\n",
       "      <th>Kilometers_Driven</th>\n",
       "      <th>Mileage</th>\n",
       "      <th>Engine</th>\n",
       "      <th>Power</th>\n",
       "      <th>Seats</th>\n",
       "      <th>Price</th>\n",
       "      <th>Mileage_Value</th>\n",
       "      <th>Engine_CC</th>\n",
       "      <th>Power_BHP</th>\n",
       "      <th>Age</th>\n",
       "      <th>Fuel_Type_Diesel</th>\n",
       "      <th>Fuel_Type_LPG</th>\n",
       "      <th>Fuel_Type_Petrol</th>\n",
       "      <th>Transmission_Manual</th>\n",
       "      <th>Owner_Type_Fourth &amp; Above</th>\n",
       "      <th>Owner_Type_Second</th>\n",
       "      <th>Owner_Type_Third</th>\n",
       "      <th>Mileage_Unit_kmpl</th>\n",
       "      <th>Brand_TE</th>\n",
       "      <th>Location_TE</th>\n",
       "    </tr>\n",
       "  </thead>\n",
       "  <tbody>\n",
       "    <tr>\n",
       "      <th>0</th>\n",
       "      <td>2010</td>\n",
       "      <td>72000</td>\n",
       "      <td>26.6 km/kg</td>\n",
       "      <td>998 CC</td>\n",
       "      <td>58.16 bhp</td>\n",
       "      <td>5.0</td>\n",
       "      <td>1.75</td>\n",
       "      <td>26.6</td>\n",
       "      <td>998.0</td>\n",
       "      <td>58.16</td>\n",
       "      <td>15</td>\n",
       "      <td>False</td>\n",
       "      <td>False</td>\n",
       "      <td>False</td>\n",
       "      <td>True</td>\n",
       "      <td>False</td>\n",
       "      <td>False</td>\n",
       "      <td>False</td>\n",
       "      <td>False</td>\n",
       "      <td>4.554868</td>\n",
       "      <td>9.436606</td>\n",
       "    </tr>\n",
       "  </tbody>\n",
       "</table>\n",
       "</div>"
      ],
      "text/plain": [
       "   Year  Kilometers_Driven     Mileage  Engine      Power  Seats  Price  \\\n",
       "0  2010              72000  26.6 km/kg  998 CC  58.16 bhp    5.0   1.75   \n",
       "\n",
       "   Mileage_Value  Engine_CC  Power_BHP  Age  Fuel_Type_Diesel  Fuel_Type_LPG  \\\n",
       "0           26.6      998.0      58.16   15             False          False   \n",
       "\n",
       "   Fuel_Type_Petrol  Transmission_Manual  Owner_Type_Fourth & Above  \\\n",
       "0             False                 True                      False   \n",
       "\n",
       "   Owner_Type_Second  Owner_Type_Third  Mileage_Unit_kmpl  Brand_TE  \\\n",
       "0              False             False              False  4.554868   \n",
       "\n",
       "   Location_TE  \n",
       "0     9.436606  "
      ]
     },
     "execution_count": 37,
     "metadata": {},
     "output_type": "execute_result"
    }
   ],
   "source": [
    "df_encoded = df_encoded.drop(columns=['Name', 'Brand', 'Brand_Canonical', 'Location', 'Location_Canonical'])\n",
    "df_encoded.head(1)"
   ]
  },
  {
   "cell_type": "code",
   "execution_count": 38,
   "id": "1d029020-3e28-4a5c-b7e8-dc4871a85f7d",
   "metadata": {
    "execution": {
     "iopub.execute_input": "2025-05-06T20:57:12.002822Z",
     "iopub.status.busy": "2025-05-06T20:57:12.002472Z",
     "iopub.status.idle": "2025-05-06T20:57:12.008264Z",
     "shell.execute_reply": "2025-05-06T20:57:12.007082Z",
     "shell.execute_reply.started": "2025-05-06T20:57:12.002796Z"
    }
   },
   "outputs": [
    {
     "name": "stdout",
     "output_type": "stream",
     "text": [
      "Новый размер датафрейма: (5874, 21)\n"
     ]
    }
   ],
   "source": [
    "print(\"Новый размер датафрейма:\", df_encoded.shape)"
   ]
  },
  {
   "cell_type": "markdown",
   "id": "aa3cdd70-4115-47b4-85f2-ca5f23668598",
   "metadata": {},
   "source": [
    "### Объяснение кодирования категорий\n",
    "\n",
    "1. **One-hot encoding** (`get_dummies`)  \n",
    "   - Подходит для признаков с небольшим числом уникальных значений.  \n",
    "   - Из классификаторов `Fuel_Type`, `Transmission`, `Owner_Type`, `Mileage_Unit` получаются бинарные столбцы, позволяющие модели воспринимать каждую категорию отдельно.\n",
    "\n",
    "2. **Target encoding**  \n",
    "   - Для признаков с высокой кардинальностью (`Brand_Canonical`, `Location_Canonical`) создание большого числа dummy-столбцов может привести к «проклятию размерности».  \n",
    "   - Вместо этого мы заменяем каждую категорию на усреднённое значение целевой переменной `Price` для этой категории, что одновременно кодирует информацию о её влиянии на цену."
   ]
  },
  {
   "cell_type": "markdown",
   "id": "c2fa5689-17e8-4db6-948b-bd0c3902c5eb",
   "metadata": {},
   "source": [
    "## Корреляционная матрица и VIF"
   ]
  },
  {
   "cell_type": "code",
   "execution_count": 39,
   "id": "38bff0ea-567b-477b-bf7b-7abdd5ccd1a3",
   "metadata": {
    "execution": {
     "iopub.execute_input": "2025-05-06T20:57:12.009709Z",
     "iopub.status.busy": "2025-05-06T20:57:12.009364Z",
     "iopub.status.idle": "2025-05-06T20:57:12.029240Z",
     "shell.execute_reply": "2025-05-06T20:57:12.027444Z",
     "shell.execute_reply.started": "2025-05-06T20:57:12.009672Z"
    }
   },
   "outputs": [],
   "source": [
    "num_df = df_encoded.select_dtypes(include=['int64', 'float64'])"
   ]
  },
  {
   "cell_type": "code",
   "execution_count": 40,
   "id": "d18a7410-773c-4c6b-a244-7592d68547c4",
   "metadata": {
    "execution": {
     "iopub.execute_input": "2025-05-06T20:57:12.031467Z",
     "iopub.status.busy": "2025-05-06T20:57:12.030659Z",
     "iopub.status.idle": "2025-05-06T20:57:12.628289Z",
     "shell.execute_reply": "2025-05-06T20:57:12.627380Z",
     "shell.execute_reply.started": "2025-05-06T20:57:12.031429Z"
    }
   },
   "outputs": [
    {
     "data": {
      "image/png": "[encoded data removed]",
      "text/plain": [
       "<Figure size 1200x1000 with 2 Axes>"
      ]
     },
     "metadata": {},
     "output_type": "display_data"
    }
   ],
   "source": [
    "corr = num_df.corr()\n",
    "\n",
    "mask = np.triu(np.ones_like(corr, dtype=bool), k=1)\n",
    "corr_masked = corr.mask(mask)\n",
    "\n",
    "fig, ax = plt.subplots(figsize=(12, 10))\n",
    "cax = ax.matshow(corr_masked, vmin=-1, vmax=1)\n",
    "fig.colorbar(cax)\n",
    "\n",
    "for i in range(corr_masked.shape[0]):\n",
    "    for j in range(corr_masked.shape[1]):\n",
    "        val = corr_masked.iloc[i, j]\n",
    "        if not np.isnan(val):\n",
    "            ax.text(j, i, f\"{val:.2f}\", va='center', ha='center')\n",
    "\n",
    "ax.set_xticks(range(len(corr.columns)))\n",
    "ax.set_xticklabels(corr.columns, rotation=90)\n",
    "ax.set_yticks(range(len(corr.columns)))\n",
    "ax.set_yticklabels(corr.columns)\n",
    "\n",
    "plt.tight_layout()\n",
    "plt.show()"
   ]
  },
  {
   "cell_type": "code",
   "execution_count": 41,
   "id": "37aba3a1-bd03-4867-9cde-9119af63457c",
   "metadata": {
    "execution": {
     "iopub.execute_input": "2025-05-06T20:57:12.629794Z",
     "iopub.status.busy": "2025-05-06T20:57:12.629494Z",
     "iopub.status.idle": "2025-05-06T20:57:12.667288Z",
     "shell.execute_reply": "2025-05-06T20:57:12.666376Z",
     "shell.execute_reply.started": "2025-05-06T20:57:12.629769Z"
    }
   },
   "outputs": [
    {
     "name": "stdout",
     "output_type": "stream",
     "text": [
      "             feature       VIF\n",
      "1               Year       inf\n",
      "7                Age       inf\n",
      "5          Engine_CC  7.349352\n",
      "6          Power_BHP  7.152255\n",
      "8           Brand_TE  2.576872\n",
      "4      Mileage_Value  1.938181\n",
      "3              Seats  1.804299\n",
      "9        Location_TE  1.103694\n",
      "2  Kilometers_Driven  1.046439\n",
      "0              const  0.000000\n"
     ]
    }
   ],
   "source": [
    "X = add_constant(num_df.drop(columns=['Price']))\n",
    "vif_data = pd.DataFrame({\n",
    "    'feature': X.columns,\n",
    "    'VIF': [variance_inflation_factor(X.values, i) for i in range(X.shape[1])]\n",
    "})\n",
    "print(vif_data.sort_values('VIF', ascending=False))"
   ]
  },
  {
   "cell_type": "code",
   "execution_count": 42,
   "id": "07e9b245-4e22-4abe-b6bc-548bcb009577",
   "metadata": {
    "execution": {
     "iopub.execute_input": "2025-05-06T20:57:12.668939Z",
     "iopub.status.busy": "2025-05-06T20:57:12.668651Z",
     "iopub.status.idle": "2025-05-06T20:57:12.675317Z",
     "shell.execute_reply": "2025-05-06T20:57:12.674305Z",
     "shell.execute_reply.started": "2025-05-06T20:57:12.668910Z"
    }
   },
   "outputs": [],
   "source": [
    "df_encoded = df_encoded.drop(columns=['Year'])"
   ]
  },
  {
   "cell_type": "code",
   "execution_count": 43,
   "id": "f72c2364-68d8-4c7e-ab80-93d7b31d20ee",
   "metadata": {
    "execution": {
     "iopub.execute_input": "2025-05-06T20:57:12.676735Z",
     "iopub.status.busy": "2025-05-06T20:57:12.676460Z",
     "iopub.status.idle": "2025-05-06T20:57:12.723043Z",
     "shell.execute_reply": "2025-05-06T20:57:12.722225Z",
     "shell.execute_reply.started": "2025-05-06T20:57:12.676713Z"
    }
   },
   "outputs": [
    {
     "data": {
      "text/html": [
       "<div>\n",
       "<style scoped>\n",
       "    .dataframe tbody tr th:only-of-type {\n",
       "        vertical-align: middle;\n",
       "    }\n",
       "\n",
       "    .dataframe tbody tr th {\n",
       "        vertical-align: top;\n",
       "    }\n",
       "\n",
       "    .dataframe thead th {\n",
       "        text-align: right;\n",
       "    }\n",
       "</style>\n",
       "<table border=\"1\" class=\"dataframe\">\n",
       "  <thead>\n",
       "    <tr style=\"text-align: right;\">\n",
       "      <th></th>\n",
       "      <th>feature</th>\n",
       "      <th>VIF</th>\n",
       "    </tr>\n",
       "  </thead>\n",
       "  <tbody>\n",
       "    <tr>\n",
       "      <th>0</th>\n",
       "      <td>const</td>\n",
       "      <td>212.220329</td>\n",
       "    </tr>\n",
       "    <tr>\n",
       "      <th>4</th>\n",
       "      <td>Engine_CC</td>\n",
       "      <td>7.349352</td>\n",
       "    </tr>\n",
       "    <tr>\n",
       "      <th>5</th>\n",
       "      <td>Power_BHP</td>\n",
       "      <td>7.152255</td>\n",
       "    </tr>\n",
       "    <tr>\n",
       "      <th>7</th>\n",
       "      <td>Brand_TE</td>\n",
       "      <td>2.576872</td>\n",
       "    </tr>\n",
       "    <tr>\n",
       "      <th>3</th>\n",
       "      <td>Mileage_Value</td>\n",
       "      <td>1.938181</td>\n",
       "    </tr>\n",
       "    <tr>\n",
       "      <th>2</th>\n",
       "      <td>Seats</td>\n",
       "      <td>1.804299</td>\n",
       "    </tr>\n",
       "    <tr>\n",
       "      <th>6</th>\n",
       "      <td>Age</td>\n",
       "      <td>1.294226</td>\n",
       "    </tr>\n",
       "    <tr>\n",
       "      <th>8</th>\n",
       "      <td>Location_TE</td>\n",
       "      <td>1.103694</td>\n",
       "    </tr>\n",
       "    <tr>\n",
       "      <th>1</th>\n",
       "      <td>Kilometers_Driven</td>\n",
       "      <td>1.046439</td>\n",
       "    </tr>\n",
       "  </tbody>\n",
       "</table>\n",
       "</div>"
      ],
      "text/plain": [
       "             feature         VIF\n",
       "0              const  212.220329\n",
       "4          Engine_CC    7.349352\n",
       "5          Power_BHP    7.152255\n",
       "7           Brand_TE    2.576872\n",
       "3      Mileage_Value    1.938181\n",
       "2              Seats    1.804299\n",
       "6                Age    1.294226\n",
       "8        Location_TE    1.103694\n",
       "1  Kilometers_Driven    1.046439"
      ]
     },
     "execution_count": 43,
     "metadata": {},
     "output_type": "execute_result"
    }
   ],
   "source": [
    "num_cols = df_encoded.select_dtypes(include=['int64','float64']).drop(columns=['Price'])\n",
    "X = add_constant(num_cols)\n",
    "vif = pd.DataFrame({\n",
    "    'feature': X.columns,\n",
    "    'VIF': [variance_inflation_factor(X.values, i) for i in range(X.shape[1])]\n",
    "})\n",
    "vif.sort_values('VIF', ascending=False)"
   ]
  },
  {
   "cell_type": "markdown",
   "id": "0b54652e-4785-4fd1-9120-6762b498b266",
   "metadata": {},
   "source": [
    "### Мини-вывод по корреляционной матрице и VIF\n",
    "\n",
    "#### 1. Корреляционная матрица  \n",
    "- **`Power_BHP`** - **`Price`** ≈ **0.77**. Наиболее сильная положительная связь: чем мощнее двигатель, тем выше цена.  \n",
    "- **`Brand_TE`** - **`Price`** ≈ **0.77**. Средняя цена по бренду отлично отражает рыночную стоимость.  \n",
    "- **`Engine_CC`** - **`Price`** ≈ **0.56**. Более крупный объём двигателя даёт более высокую цену.  \n",
    "- **`Mileage_Value`** - **`Price`** ≈ **0.34**. Экономичные машины (больший пробег на топливе) стоят дороже.  \n",
    "- **`Age`** - **`Price`** ≈ **0.30**. Новые автомобили (меньший возраст) имеют более высокую цену.  \n",
    "- **`Location_TE`** - **`Price`** ≈ **0.25**. Учтены региональные ценовые особенности.  \n",
    "- **`Kilometers_Driven`** - **`Price`** ≈ **–0.01**. Практически отсутствует прямая линейная связь.  \n",
    "- **`Seats`** - **`Price`** ≈ **0.06**. Слабо положительная связь - признак низкого влияния.\n",
    "\n",
    "#### 2. Мультиколлинеарность (VIF)  \n",
    "- **`const`** (интерсепт): VIF ≈ 212 - интерсепт всегда полностью мультиколинеарен, **игнорируется**.  \n",
    "- **`Year`** и **`Age`**: VIF = ∞ - один из них удалил (`Year`).  \n",
    "- **`Engine_CC`** и **`Power_BHP`**: VIF ≈ 7 (<10) - допустимо, но потенциально стоит ввести `Specific_Power = Power_BHP/Engine_CC`.  \n",
    "- Остальные признаки: VIF ≤ 3 — мультиколлинеарность не критична.\n",
    "\n",
    "#### 3. Что сделано и зачем  \n",
    "1. **Корреляционный анализ** выявил наиболее сильные линейные связи с ценой, чтобы фокусироваться на информативных фичах.  \n",
    "2. **VIF** дал количественную оценку «перекрытия» информации между признаками и показал, что нужно:  \n",
    "   - Удалить **`Year`**, оставить **`Age`**.  \n",
    "   - Рассмотреть `Specific_Power` для снижения оставшейся мультиколлинеарности между `Engine_CC` и `Power_BHP`.  \n",
    "3. **Дальнейшие шаги**:   \n",
    "   - Добавить `Specific_Power`.  \n",
    "   - Оценить постепенное исключение слабых признаков (`Kilometers_Driven`, `Seats`) при отборе.  \n",
    "   - Перейти к финальному отбору признаков и моделированию."
   ]
  },
  {
   "cell_type": "markdown",
   "id": "61fe8125-787a-4eaf-a41b-94a733a01266",
   "metadata": {},
   "source": [
    "## Добавляем новые показатели и проводим небольшой EDA"
   ]
  },
  {
   "cell_type": "code",
   "execution_count": 44,
   "id": "329b97c3-0265-4ad4-a75d-c1813963f0c8",
   "metadata": {
    "execution": {
     "iopub.execute_input": "2025-05-06T20:57:12.724160Z",
     "iopub.status.busy": "2025-05-06T20:57:12.723887Z",
     "iopub.status.idle": "2025-05-06T20:57:12.731625Z",
     "shell.execute_reply": "2025-05-06T20:57:12.730548Z",
     "shell.execute_reply.started": "2025-05-06T20:57:12.724140Z"
    }
   },
   "outputs": [],
   "source": [
    "df_encoded['Specific_Power'] = df_encoded['Power_BHP'] / df_encoded['Engine_CC']\n",
    "df_encoded['Age2']           = df_encoded['Age'] ** 2\n",
    "df_encoded['Kilometers2']    = df_encoded['Kilometers_Driven'] ** 2"
   ]
  },
  {
   "cell_type": "code",
   "execution_count": 45,
   "id": "41414edd-69e9-4083-b72f-caf10e88696b",
   "metadata": {
    "execution": {
     "iopub.execute_input": "2025-05-06T20:57:12.732907Z",
     "iopub.status.busy": "2025-05-06T20:57:12.732571Z",
     "iopub.status.idle": "2025-05-06T20:57:12.766522Z",
     "shell.execute_reply": "2025-05-06T20:57:12.765727Z",
     "shell.execute_reply.started": "2025-05-06T20:57:12.732878Z"
    }
   },
   "outputs": [
    {
     "data": {
      "text/html": [
       "<div>\n",
       "<style scoped>\n",
       "    .dataframe tbody tr th:only-of-type {\n",
       "        vertical-align: middle;\n",
       "    }\n",
       "\n",
       "    .dataframe tbody tr th {\n",
       "        vertical-align: top;\n",
       "    }\n",
       "\n",
       "    .dataframe thead th {\n",
       "        text-align: right;\n",
       "    }\n",
       "</style>\n",
       "<table border=\"1\" class=\"dataframe\">\n",
       "  <thead>\n",
       "    <tr style=\"text-align: right;\">\n",
       "      <th></th>\n",
       "      <th>Specific_Power</th>\n",
       "      <th>Age2</th>\n",
       "      <th>Kilometers2</th>\n",
       "    </tr>\n",
       "  </thead>\n",
       "  <tbody>\n",
       "    <tr>\n",
       "      <th>count</th>\n",
       "      <td>5874.000000</td>\n",
       "      <td>5874.000000</td>\n",
       "      <td>5.874000e+03</td>\n",
       "    </tr>\n",
       "    <tr>\n",
       "      <th>mean</th>\n",
       "      <td>0.068697</td>\n",
       "      <td>142.812904</td>\n",
       "      <td>1.189274e+10</td>\n",
       "    </tr>\n",
       "    <tr>\n",
       "      <th>std</th>\n",
       "      <td>0.012911</td>\n",
       "      <td>82.535965</td>\n",
       "      <td>5.513740e+11</td>\n",
       "    </tr>\n",
       "    <tr>\n",
       "      <th>min</th>\n",
       "      <td>0.023842</td>\n",
       "      <td>36.000000</td>\n",
       "      <td>2.924100e+04</td>\n",
       "    </tr>\n",
       "    <tr>\n",
       "      <th>25%</th>\n",
       "      <td>0.061601</td>\n",
       "      <td>81.000000</td>\n",
       "      <td>1.117649e+09</td>\n",
       "    </tr>\n",
       "    <tr>\n",
       "      <th>50%</th>\n",
       "      <td>0.067174</td>\n",
       "      <td>121.000000</td>\n",
       "      <td>2.769022e+09</td>\n",
       "    </tr>\n",
       "    <tr>\n",
       "      <th>75%</th>\n",
       "      <td>0.075120</td>\n",
       "      <td>169.000000</td>\n",
       "      <td>5.242955e+09</td>\n",
       "    </tr>\n",
       "    <tr>\n",
       "      <th>max</th>\n",
       "      <td>0.153421</td>\n",
       "      <td>729.000000</td>\n",
       "      <td>4.225000e+13</td>\n",
       "    </tr>\n",
       "  </tbody>\n",
       "</table>\n",
       "</div>"
      ],
      "text/plain": [
       "       Specific_Power         Age2   Kilometers2\n",
       "count     5874.000000  5874.000000  5.874000e+03\n",
       "mean         0.068697   142.812904  1.189274e+10\n",
       "std          0.012911    82.535965  5.513740e+11\n",
       "min          0.023842    36.000000  2.924100e+04\n",
       "25%          0.061601    81.000000  1.117649e+09\n",
       "50%          0.067174   121.000000  2.769022e+09\n",
       "75%          0.075120   169.000000  5.242955e+09\n",
       "max          0.153421   729.000000  4.225000e+13"
      ]
     },
     "execution_count": 45,
     "metadata": {},
     "output_type": "execute_result"
    }
   ],
   "source": [
    "df_encoded[['Specific_Power','Age2','Kilometers2']].describe()"
   ]
  },
  {
   "cell_type": "markdown",
   "id": "6c16a30c-46c2-4f0d-82aa-943d4fcf929f",
   "metadata": {},
   "source": [
    "Построим:\n",
    "1. **Гистограммы** распределений (`hist`) для трёх новых фичей, чтобы увидеть форму распределения.  \n",
    "2. **Scatter-plots** новых фичей против `Price`, чтобы оценить их связь с целевой переменной."
   ]
  },
  {
   "cell_type": "code",
   "execution_count": 46,
   "id": "552c5e61-243d-405e-9696-10bf52edf9ff",
   "metadata": {
    "execution": {
     "iopub.execute_input": "2025-05-06T20:57:12.767652Z",
     "iopub.status.busy": "2025-05-06T20:57:12.767379Z",
     "iopub.status.idle": "2025-05-06T20:57:13.960892Z",
     "shell.execute_reply": "2025-05-06T20:57:13.960023Z",
     "shell.execute_reply.started": "2025-05-06T20:57:12.767633Z"
    }
   },
   "outputs": [
    {
     "data": {
      "image/png": "[encoded data removed]",
      "text/plain": [
       "<Figure size 1500x400 with 3 Axes>"
      ]
     },
     "metadata": {},
     "output_type": "display_data"
    },
    {
     "data": {
      "image/png": "[encoded data removed]",
      "text/plain": [
       "<Figure size 1500x400 with 3 Axes>"
      ]
     },
     "metadata": {},
     "output_type": "display_data"
    }
   ],
   "source": [
    "fig, axes = plt.subplots(1, 3, figsize=(15, 4))\n",
    "axes[0].hist(df_encoded['Specific_Power'], bins=30)\n",
    "axes[0].set_title('Specific_Power')\n",
    "axes[1].hist(df_encoded['Age2'], bins=30)\n",
    "axes[1].set_title('Age^2')\n",
    "axes[2].hist(df_encoded['Kilometers2'], bins=30)\n",
    "axes[2].set_title('Kilometers^2')\n",
    "plt.tight_layout()\n",
    "plt.show()\n",
    "\n",
    "fig, axes = plt.subplots(1, 3, figsize=(15, 4))\n",
    "axes[0].scatter(df_encoded['Specific_Power'], df_encoded['Price'], alpha=0.5)\n",
    "axes[0].set_xlabel('Specific_Power'); axes[0].set_ylabel('Price')\n",
    "axes[1].scatter(df_encoded['Age2'], df_encoded['Price'], alpha=0.5)\n",
    "axes[1].set_xlabel('Age^2'); axes[1].set_ylabel('Price')\n",
    "axes[2].scatter(df_encoded['Kilometers2'], df_encoded['Price'], alpha=0.5)\n",
    "axes[2].set_xlabel('Kilometers^2'); axes[2].set_ylabel('Price')\n",
    "plt.tight_layout()\n",
    "plt.show()"
   ]
  },
  {
   "cell_type": "markdown",
   "id": "2d399bde-788c-4fe9-8cf1-87afa1a7ed64",
   "metadata": {},
   "source": [
    "### Интерпретация EDA новых фичей и дальнейшие шаги\n",
    "\n",
    "1. `Specific_Power`  \n",
    "- Распределение близко к нормальному, scatter показывает умеренную положительную корреляцию с ценой.  \n",
    "- Оставляем без изменений.\n",
    "\n",
    "2. `Age^2`  \n",
    "- Правосторонняя скошенность, scatter демонстрирует обратную зависимость: более «старые» машины (больший Age^2) стоят дешевле.  \n",
    "- Признак информативен, но лучше будет в нашем случае опробовать лог-преобразование - это и сделаем.\n",
    "\n",
    "3. `Kilometers^2`  \n",
    "- Сильно правостороннее распределение: практически все точки концентрируются у низких значений, а огромные квадраты пробега создают шум.  \n",
    "- Scatter показывает, что зависимость почти не различима из-за экстремальных величин."
   ]
  },
  {
   "cell_type": "code",
   "execution_count": 47,
   "id": "e44ed3ae-473a-4b29-8984-8d18607aa01b",
   "metadata": {
    "execution": {
     "iopub.execute_input": "2025-05-06T20:57:13.962408Z",
     "iopub.status.busy": "2025-05-06T20:57:13.962063Z",
     "iopub.status.idle": "2025-05-06T20:57:13.969193Z",
     "shell.execute_reply": "2025-05-06T20:57:13.968299Z",
     "shell.execute_reply.started": "2025-05-06T20:57:13.962373Z"
    }
   },
   "outputs": [],
   "source": [
    "df_encoded['Log_Kilometers'] = np.log1p(df_encoded['Kilometers_Driven'])\n",
    "df_encoded['Log_Age'] = np.log1p(df_encoded['Age'])"
   ]
  },
  {
   "cell_type": "code",
   "execution_count": 48,
   "id": "a008139f-3fe5-4f3d-92d6-ff28a355780e",
   "metadata": {
    "execution": {
     "iopub.execute_input": "2025-05-06T20:57:13.970952Z",
     "iopub.status.busy": "2025-05-06T20:57:13.970572Z",
     "iopub.status.idle": "2025-05-06T20:57:14.466223Z",
     "shell.execute_reply": "2025-05-06T20:57:14.465100Z",
     "shell.execute_reply.started": "2025-05-06T20:57:13.970917Z"
    }
   },
   "outputs": [
    {
     "data": {
      "image/png": "[encoded data removed]",
      "text/plain": [
       "<Figure size 1200x400 with 2 Axes>"
      ]
     },
     "metadata": {},
     "output_type": "display_data"
    }
   ],
   "source": [
    "fig, axes = plt.subplots(1, 2, figsize=(12, 4))\n",
    "\n",
    "axes[0].hist(df_encoded['Log_Kilometers'], bins=30)\n",
    "axes[0].set_title('Распределение Log_Kilometers')\n",
    "\n",
    "axes[1].hist(df_encoded['Log_Age'], bins=30)\n",
    "axes[1].set_title('Распределение Log_Age')\n",
    "\n",
    "plt.tight_layout()\n",
    "plt.show()"
   ]
  },
  {
   "cell_type": "markdown",
   "id": "e3e95a4f-86c8-45d1-b7f2-643980c8f9ce",
   "metadata": {},
   "source": [
    "1. **Log_Kilometers**  \n",
    "   - После лог-преобразования распределение почти симметричное, концентрируется вокруг 10–12.  \n",
    "   - Устранены экстремальные правые выбросы, теперь модельу будет проще учесть влияние пробега.\n",
    "\n",
    "2. **Log_Age**  \n",
    "   - Значения лежат в диапазоне ~2.0–3.3, распределение стало более «колоколообразным» с умеренным правым хвостом.  \n",
    "   - Лог-возраст позволяет снизить влияние очень старых машин и сгладить квадратичный признак."
   ]
  },
  {
   "cell_type": "markdown",
   "id": "f6085994-150b-4062-9849-33bfbb2a413f",
   "metadata": {},
   "source": [
    "## Отбор признаков с помощью RFE"
   ]
  },
  {
   "cell_type": "markdown",
   "id": "427ae85c-bfb3-4943-8547-6222e62e36fd",
   "metadata": {},
   "source": [
    "Перед тем как перейти к моделированию, нам нужно выбрать из большого набора фич наиболее информативные:\n",
    "\n",
    "- **Что отбираем?**  \n",
    "  Отберём **10 признаков**, которые дают наибольший вклад в объяснение вариации `Price`.  \n",
    "\n",
    "- **Почему именно RFE?**  \n",
    "  - Позволяет последовательно исключать наименее важные признаки, основываясь на устойчивом базовом алгоритме (Ridge).  \n",
    "  - Снижает риск переобучения и «проклятие размерности», ускоряет обучение моделей.  \n",
    "  - Даёт явный список наиболее значимых переменных, упрощая интерпретацию.\n",
    "\n",
    "\n",
    "Поехалии"
   ]
  },
  {
   "cell_type": "markdown",
   "id": "225dd982-b961-4bf2-bf6e-b134a173c830",
   "metadata": {},
   "source": [
    "Формируем матрицу признаков X и вектор y"
   ]
  },
  {
   "cell_type": "code",
   "execution_count": 49,
   "id": "e0dc7fbe-a75b-448a-8b60-77d502847a3c",
   "metadata": {
    "execution": {
     "iopub.execute_input": "2025-05-06T20:57:14.467713Z",
     "iopub.status.busy": "2025-05-06T20:57:14.467372Z",
     "iopub.status.idle": "2025-05-06T20:57:14.473179Z",
     "shell.execute_reply": "2025-05-06T20:57:14.472088Z",
     "shell.execute_reply.started": "2025-05-06T20:57:14.467678Z"
    }
   },
   "outputs": [
    {
     "name": "stdout",
     "output_type": "stream",
     "text": [
      "Текущие колонки в df_encoded:\n",
      " ['Kilometers_Driven', 'Mileage', 'Engine', 'Power', 'Seats', 'Price', 'Mileage_Value', 'Engine_CC', 'Power_BHP', 'Age', 'Fuel_Type_Diesel', 'Fuel_Type_LPG', 'Fuel_Type_Petrol', 'Transmission_Manual', 'Owner_Type_Fourth & Above', 'Owner_Type_Second', 'Owner_Type_Third', 'Mileage_Unit_kmpl', 'Brand_TE', 'Location_TE', 'Specific_Power', 'Age2', 'Kilometers2', 'Log_Kilometers', 'Log_Age']\n"
     ]
    }
   ],
   "source": [
    "print(\"Текущие колонки в df_encoded:\\n\", df_encoded.columns.tolist())"
   ]
  },
  {
   "cell_type": "code",
   "execution_count": 50,
   "id": "83e182f8-c522-4adc-b949-ac97356df056",
   "metadata": {
    "execution": {
     "iopub.execute_input": "2025-05-06T20:57:14.474817Z",
     "iopub.status.busy": "2025-05-06T20:57:14.474422Z",
     "iopub.status.idle": "2025-05-06T20:57:14.492668Z",
     "shell.execute_reply": "2025-05-06T20:57:14.491582Z",
     "shell.execute_reply.started": "2025-05-06T20:57:14.474786Z"
    }
   },
   "outputs": [],
   "source": [
    "drop_cols = ['Price', 'Mileage', 'Engine', 'Power']"
   ]
  },
  {
   "cell_type": "code",
   "execution_count": 51,
   "id": "9c52f4da-fdea-4120-8453-695458fe857c",
   "metadata": {
    "execution": {
     "iopub.execute_input": "2025-05-06T20:57:14.494173Z",
     "iopub.status.busy": "2025-05-06T20:57:14.493861Z",
     "iopub.status.idle": "2025-05-06T20:57:14.514977Z",
     "shell.execute_reply": "2025-05-06T20:57:14.513909Z",
     "shell.execute_reply.started": "2025-05-06T20:57:14.494150Z"
    }
   },
   "outputs": [],
   "source": [
    "X = df_encoded.drop(columns=drop_cols)\n",
    "y = df_encoded['Price']"
   ]
  },
  {
   "cell_type": "markdown",
   "id": "9676448d-8a12-4b8e-aea9-f9edfa8ac0fb",
   "metadata": {},
   "source": [
    "RFE на базе Ridge"
   ]
  },
  {
   "cell_type": "code",
   "execution_count": 52,
   "id": "5eb1c265-2bda-4001-a87e-5a5e6fdbf83c",
   "metadata": {
    "execution": {
     "iopub.execute_input": "2025-05-06T20:57:14.516610Z",
     "iopub.status.busy": "2025-05-06T20:57:14.516287Z",
     "iopub.status.idle": "2025-05-06T20:57:14.562170Z",
     "shell.execute_reply": "2025-05-06T20:57:14.561362Z",
     "shell.execute_reply.started": "2025-05-06T20:57:14.516587Z"
    }
   },
   "outputs": [],
   "source": [
    "estimator = Ridge(alpha=1.0, random_state=42)\n",
    "selector = RFE(estimator, n_features_to_select=10, step=1)\n",
    "selector = selector.fit(X, y)"
   ]
  },
  {
   "cell_type": "code",
   "execution_count": 53,
   "id": "29fbf574-8da3-4b32-a39d-6e2db29bc278",
   "metadata": {
    "execution": {
     "iopub.execute_input": "2025-05-06T20:57:14.563492Z",
     "iopub.status.busy": "2025-05-06T20:57:14.563147Z",
     "iopub.status.idle": "2025-05-06T20:57:14.568491Z",
     "shell.execute_reply": "2025-05-06T20:57:14.567852Z",
     "shell.execute_reply.started": "2025-05-06T20:57:14.563461Z"
    }
   },
   "outputs": [
    {
     "name": "stdout",
     "output_type": "stream",
     "text": [
      "Отобранные признаки (10):\n",
      "– Age\n",
      "– Fuel_Type_Diesel\n",
      "– Fuel_Type_LPG\n",
      "– Fuel_Type_Petrol\n",
      "– Owner_Type_Fourth & Above\n",
      "– Owner_Type_Second\n",
      "– Mileage_Unit_kmpl\n",
      "– Brand_TE\n",
      "– Specific_Power\n",
      "– Log_Age\n"
     ]
    }
   ],
   "source": [
    "selected_features = X.columns[selector.support_].tolist()\n",
    "print(\"Отобранные признаки (10):\")\n",
    "for f in selected_features:\n",
    "    print(\"–\", f)"
   ]
  },
  {
   "cell_type": "markdown",
   "id": "b5d1b82d-4a0b-4c2a-a975-a5ebf2c0639b",
   "metadata": {},
   "source": [
    "### Итоговый набор признаков и обоснование\n",
    "#### Зачем мы использовали RFE\n",
    "- **Объективность**: RFE (Recursive Feature Elimination) последовательно удаляет наименее важные признаки, основываясь на «реальном» вкладе каждого из них в предсказание модели (здесь — Ridge).  \n",
    "- **Управление размерностью**: из большого числа фич RFE оставляет фиксированное количество (я выбрал 10), минимизируя риск «проклятия размерности» и переобучения.  \n",
    "- **Учет коллинеарности**: метод автоматически отбрасывает признаки, чья информация уже частично дублируется другими (например, `Engine_CC` и `Power_BHP` в пользу `Specific_Power`).\n",
    "\n",
    "#### Почему не всегда стоит слепо полагаться на RFE\n",
    "- **Доменные знания**: некоторые признаки (например, `Mileage_Value`, `Location_TE`) логично учитывать, даже если их «важность» в базовом Ridge-модели чуть ниже.  \n",
    "- **Избежание «черного ящика»**: ручной отбор позволяет сохранить интерпретируемость и доверие к модели, поэтому немного подредактируем необходимый для нас набор переменных\n",
    "\n",
    "#### Используемые признаки:\n",
    "\n",
    "1. **Log_Age** (`np.log1p(Age)`). Сглаживает влияние возраста автомобиля, убирает выбросы «очень старых» машин.  \n",
    "2. **Log_Kilometers** (`np.log1p(Kilometers_Driven)`). Лог-пробег более равномерно распределён и лучше отражает износ.  \n",
    "3. **Specific_Power** (`Power_BHP / Engine_CC`). Отношение мощности к объёму двигателя: ключевой показатель динамики и «качественности» мотора.  \n",
    "4. **Brand_TE** (Target-encoding бренда). Средняя историческая цена по бренду, отражает рыночную престижность.  \n",
    "5. **Location_TE** (Target-encoding локации). Средняя цена по городу, учитывает региональные ценовые различия.  \n",
    "6. **Fuel_Type_Diesel**, **Fuel_Type_LPG**. Дамми-признаки для типов топлива (базовая категория — Petrol).  \n",
    "7. **Transmission_Manual**. Дамми: Manual vs Automatic.  \n",
    "8. **Owner_Type_Second**, **Owner_Type_Third & Above**. Дамми для истории владельцев (базовая — First).  \n",
    "9. **Mileage_Unit_kmpl**. Дамми: kmpl vs km/kg (базовая — km/kg).  \n",
    "\n",
    "**Почему именно эти признаки?**  \n",
    "- Они охватывают все ключевые аспекты, влияющие на цену: возраст, пробег, мотор, бренд и регион, тип топлива и трансмиссии, историю владельцев и эффективность расхода.  \n",
    "- Лог-преобразования (`Log_Age`, `Log_Kilometers`) устраняют сильную скошенность и делают распределения более «модельными».  \n",
    "- `Specific_Power` заменяет два коррелированных признака (`Power_BHP`, `Engine_CC`), снижая мультиколлинеарность и акцентируя отношение мощности к объёму.  \n",
    "- Target-encoding (`Brand_TE`, `Location_TE`) упрощает кодирование высококардинальных категорий и привносит количественную информацию о каждом значении.  \n",
    "- One-hot дамми-признаки для оставшихся категориальных переменных захватывают их разброс без чрезмерного роста размерности."
   ]
  },
  {
   "cell_type": "markdown",
   "id": "46632db0-e109-45f1-a8d2-fd3605d288ef",
   "metadata": {},
   "source": [
    "## Самая интересная часть с обучением"
   ]
  },
  {
   "cell_type": "markdown",
   "id": "583b1945-7865-4d11-98a3-ab85ecd3b763",
   "metadata": {},
   "source": [
    "### Обоснование разбиения на Train / Validation / Test\n",
    "\n",
    "Сразу скажу, что буду делить именно так и объясню, почему именно так\n",
    "1. **Раздельная валидация гиперпараметров**  \n",
    "   - **Train** (70 %) — подгоняем веса моделей и отбираем признаки.  \n",
    "   - **Validation** (15 %) — на ней выбираем гиперпараметры (α для Ridge, глубину дерева и т. д.) без «заглядывания» в тест.  \n",
    "   - **Test** (15 %) — только для итоговой оценки, гарантируя независимость от этапа подбора.\n",
    "\n",
    "2. **Почему не просто Train/Test?**  \n",
    "   - При одном только разбиении на train и test гиперпараметры подбираются «на вслепую» (grid/RandomSearch) по тестовой метрике, что ведёт к **утечке информации** и слишком оптимистичной оценке.  \n",
    "   - Трёхсекционное разбиение устраняет этот риск и позволяет **объективно** оценить обобщающую способность модели.\n",
    "\n",
    "### Выбранная метрика и её обоснование\n",
    "\n",
    "- **Основная метрика — RMSE** (Root Mean Squared Error)  \n",
    "  – Измеряется в тех же единицах (лакхах).  \n",
    "  – Сильно штрафует крупные ошибки, важные в ценообразовании автомобилей.  \n",
    "- **Дополнительно**:  \n",
    "  - **MAE** (Mean Absolute Error) для устойчивой оценки при выбросах.  \n",
    "  - **R²** (коэффициент детерминации) для понимания доли объяснённой дисперсии."
   ]
  },
  {
   "cell_type": "markdown",
   "id": "4cc4f9e5-be65-4de3-8128-ff3f1bda908a",
   "metadata": {},
   "source": [
    "Формируем X и y"
   ]
  },
  {
   "cell_type": "code",
   "execution_count": 54,
   "id": "d1b1a21c-c31d-49db-94bc-1ebf4204ba16",
   "metadata": {
    "execution": {
     "iopub.execute_input": "2025-05-06T20:57:14.569312Z",
     "iopub.status.busy": "2025-05-06T20:57:14.569066Z",
     "iopub.status.idle": "2025-05-06T20:57:14.589245Z",
     "shell.execute_reply": "2025-05-06T20:57:14.588300Z",
     "shell.execute_reply.started": "2025-05-06T20:57:14.569292Z"
    }
   },
   "outputs": [
    {
     "data": {
      "text/plain": [
       "Index(['Kilometers_Driven', 'Mileage', 'Engine', 'Power', 'Seats', 'Price',\n",
       "       'Mileage_Value', 'Engine_CC', 'Power_BHP', 'Age', 'Fuel_Type_Diesel',\n",
       "       'Fuel_Type_LPG', 'Fuel_Type_Petrol', 'Transmission_Manual',\n",
       "       'Owner_Type_Fourth & Above', 'Owner_Type_Second', 'Owner_Type_Third',\n",
       "       'Mileage_Unit_kmpl', 'Brand_TE', 'Location_TE', 'Specific_Power',\n",
       "       'Age2', 'Kilometers2', 'Log_Kilometers', 'Log_Age'],\n",
       "      dtype='object')"
      ]
     },
     "execution_count": 54,
     "metadata": {},
     "output_type": "execute_result"
    }
   ],
   "source": [
    "df_encoded.columns"
   ]
  },
  {
   "cell_type": "code",
   "execution_count": 55,
   "id": "0c6348ce-c3e1-49b3-8ef7-d4270d547914",
   "metadata": {
    "execution": {
     "iopub.execute_input": "2025-05-06T20:57:14.591044Z",
     "iopub.status.busy": "2025-05-06T20:57:14.590300Z",
     "iopub.status.idle": "2025-05-06T20:57:14.609137Z",
     "shell.execute_reply": "2025-05-06T20:57:14.608185Z",
     "shell.execute_reply.started": "2025-05-06T20:57:14.590986Z"
    }
   },
   "outputs": [],
   "source": [
    "selected_features = [\n",
    "    'Log_Age', 'Log_Kilometers', 'Specific_Power',\n",
    "    'Brand_TE', 'Location_TE',\n",
    "    'Fuel_Type_Diesel', 'Fuel_Type_LPG',\n",
    "    'Transmission_Manual',\n",
    "    'Owner_Type_Second', 'Owner_Type_Third', 'Owner_Type_Fourth & Above',\n",
    "    'Mileage_Unit_kmpl'\n",
    "]\n",
    "X = df_encoded[selected_features]\n",
    "y = df_encoded['Price']"
   ]
  },
  {
   "cell_type": "markdown",
   "id": "317da28a-2ac8-4983-a702-095a8c814123",
   "metadata": {},
   "source": [
    "Разбиение: 70% train, 15% validation, 15% test"
   ]
  },
  {
   "cell_type": "code",
   "execution_count": 56,
   "id": "4e700125-bcb1-466b-8ef9-8f74971948b6",
   "metadata": {
    "execution": {
     "iopub.execute_input": "2025-05-06T20:57:14.610424Z",
     "iopub.status.busy": "2025-05-06T20:57:14.610071Z",
     "iopub.status.idle": "2025-05-06T20:57:14.636648Z",
     "shell.execute_reply": "2025-05-06T20:57:14.635776Z",
     "shell.execute_reply.started": "2025-05-06T20:57:14.610393Z"
    }
   },
   "outputs": [
    {
     "name": "stdout",
     "output_type": "stream",
     "text": [
      "Train: (4111, 12) (4111,)\n",
      "Validation: (881, 12) (881,)\n",
      "Test: (882, 12) (882,)\n"
     ]
    }
   ],
   "source": [
    "X_train, X_temp, y_train, y_temp = train_test_split(\n",
    "    X, y, test_size=0.30, random_state=59\n",
    ")\n",
    "X_valid, X_test, y_valid, y_test = train_test_split(\n",
    "    X_temp, y_temp, test_size=0.50, random_state=59\n",
    ")\n",
    "\n",
    "print(\"Train:\", X_train.shape, y_train.shape)\n",
    "print(\"Validation:\", X_valid.shape, y_valid.shape)\n",
    "print(\"Test:\", X_test.shape, y_test.shape)"
   ]
  },
  {
   "cell_type": "markdown",
   "id": "5a3d9735-8992-4dd4-9a84-4286fc134040",
   "metadata": {},
   "source": [
    "### Dummy baseline"
   ]
  },
  {
   "cell_type": "code",
   "execution_count": 57,
   "id": "2e5e2732-141a-44db-a984-2acc164073d3",
   "metadata": {
    "execution": {
     "iopub.execute_input": "2025-05-06T20:57:14.643666Z",
     "iopub.status.busy": "2025-05-06T20:57:14.642889Z",
     "iopub.status.idle": "2025-05-06T20:57:14.654779Z",
     "shell.execute_reply": "2025-05-06T20:57:14.653654Z",
     "shell.execute_reply.started": "2025-05-06T20:57:14.643635Z"
    }
   },
   "outputs": [
    {
     "data": {
      "text/plain": [
       "{'Baseline': {'RMSE': 9.714100921585311,\n",
       "  'MAE': 6.754443028324936,\n",
       "  'R2': -0.00903165937804662}}"
      ]
     },
     "execution_count": 57,
     "metadata": {},
     "output_type": "execute_result"
    }
   ],
   "source": [
    "baseline = DummyRegressor(strategy='mean').fit(X_train, y_train)\n",
    "results = {\n",
    "    'Baseline': {\n",
    "        'RMSE': mean_squared_error(y_valid, baseline.predict(X_valid), squared=False),\n",
    "        'MAE' : mean_absolute_error(y_valid, baseline.predict(X_valid)),\n",
    "        'R2'  : r2_score(y_valid, baseline.predict(X_valid))\n",
    "    }\n",
    "}\n",
    "results"
   ]
  },
  {
   "cell_type": "markdown",
   "id": "64ecc135-d3d2-4df6-ab60-55b7f0e2be39",
   "metadata": {},
   "source": [
    "Настройка кросс-валидации"
   ]
  },
  {
   "cell_type": "code",
   "execution_count": 58,
   "id": "6ecbfaa4-46d3-42c4-a416-76fcc9324ca0",
   "metadata": {
    "execution": {
     "iopub.execute_input": "2025-05-06T20:57:14.656161Z",
     "iopub.status.busy": "2025-05-06T20:57:14.655841Z",
     "iopub.status.idle": "2025-05-06T20:57:14.672179Z",
     "shell.execute_reply": "2025-05-06T20:57:14.671054Z",
     "shell.execute_reply.started": "2025-05-06T20:57:14.656129Z"
    }
   },
   "outputs": [],
   "source": [
    "kf = KFold(n_splits=5, shuffle=True, random_state=59)"
   ]
  },
  {
   "cell_type": "code",
   "execution_count": 59,
   "id": "00a12fa8-16e1-4319-be6f-7444d398f610",
   "metadata": {
    "execution": {
     "iopub.execute_input": "2025-05-06T20:57:14.673395Z",
     "iopub.status.busy": "2025-05-06T20:57:14.673123Z",
     "iopub.status.idle": "2025-05-06T20:57:14.692315Z",
     "shell.execute_reply": "2025-05-06T20:57:14.690939Z",
     "shell.execute_reply.started": "2025-05-06T20:57:14.673375Z"
    }
   },
   "outputs": [],
   "source": [
    "def fit_and_eval(name, estimator, param_grid=None):\n",
    "    if param_grid:\n",
    "        gs = GridSearchCV(estimator, param_grid, scoring='neg_root_mean_squared_error',\n",
    "                          cv=kf, n_jobs=-1)\n",
    "        gs.fit(X_train, y_train)\n",
    "        pred = gs.predict(X_valid)\n",
    "        results[name] = {\n",
    "            'best_params': gs.best_params_,\n",
    "            'RMSE': mean_squared_error(y_valid, pred, squared=False),\n",
    "            'MAE': mean_absolute_error(y_valid, pred),\n",
    "            'R2': r2_score(y_valid, pred)\n",
    "        }\n",
    "    else:\n",
    "        estimator.fit(X_train, y_train)\n",
    "        pred = estimator.predict(X_valid)\n",
    "        results[name] = {\n",
    "            'best_params': None,\n",
    "            'RMSE': mean_squared_error(y_valid, pred, squared=False),\n",
    "            'MAE': mean_absolute_error(y_valid, pred),\n",
    "            'R2': r2_score(y_valid, pred)\n",
    "        }"
   ]
  },
  {
   "cell_type": "code",
   "execution_count": 60,
   "id": "dde24f40-0bc8-40ae-917c-901943d94d17",
   "metadata": {
    "execution": {
     "iopub.execute_input": "2025-05-06T20:57:14.693775Z",
     "iopub.status.busy": "2025-05-06T20:57:14.693495Z",
     "iopub.status.idle": "2025-05-06T20:57:33.833038Z",
     "shell.execute_reply": "2025-05-06T20:57:33.832110Z",
     "shell.execute_reply.started": "2025-05-06T20:57:14.693755Z"
    }
   },
   "outputs": [],
   "source": [
    "fit_and_eval('LinearRegression', LinearRegression())\n",
    "fit_and_eval('Ridge', Ridge(random_state=42), {'alpha': [0.1, 1.0, 10.0]})\n",
    "fit_and_eval('Lasso', Lasso(random_state=42, max_iter=10000), {'alpha': [0.001, 0.01, 0.1]})\n",
    "fit_and_eval('RandomForest', RandomForestRegressor(random_state=42),\n",
    "             {'n_estimators': [100, 200], 'max_depth': [None, 10]})\n",
    "fit_and_eval('XGBoost', XGBRegressor(random_state=42, verbosity=0),\n",
    "             {'n_estimators': [100, 200], 'max_depth': [3, 6], 'learning_rate': [0.01, 0.1]})"
   ]
  },
  {
   "cell_type": "code",
   "execution_count": 61,
   "id": "0c25775f-5dfb-409a-a9ea-62a701d84016",
   "metadata": {
    "execution": {
     "iopub.execute_input": "2025-05-06T20:57:33.834691Z",
     "iopub.status.busy": "2025-05-06T20:57:33.833991Z",
     "iopub.status.idle": "2025-05-06T20:57:33.853988Z",
     "shell.execute_reply": "2025-05-06T20:57:33.853233Z",
     "shell.execute_reply.started": "2025-05-06T20:57:33.834657Z"
    }
   },
   "outputs": [
    {
     "data": {
      "text/html": [
       "<div>\n",
       "<style scoped>\n",
       "    .dataframe tbody tr th:only-of-type {\n",
       "        vertical-align: middle;\n",
       "    }\n",
       "\n",
       "    .dataframe tbody tr th {\n",
       "        vertical-align: top;\n",
       "    }\n",
       "\n",
       "    .dataframe thead th {\n",
       "        text-align: right;\n",
       "    }\n",
       "</style>\n",
       "<table border=\"1\" class=\"dataframe\">\n",
       "  <thead>\n",
       "    <tr style=\"text-align: right;\">\n",
       "      <th></th>\n",
       "      <th>best_params</th>\n",
       "      <th>RMSE</th>\n",
       "      <th>MAE</th>\n",
       "      <th>R2</th>\n",
       "    </tr>\n",
       "  </thead>\n",
       "  <tbody>\n",
       "    <tr>\n",
       "      <th>XGBoost</th>\n",
       "      <td>{'learning_rate': 0.1, 'max_depth': 6, 'n_estimators': 200}</td>\n",
       "      <td>2.921425</td>\n",
       "      <td>1.409801</td>\n",
       "      <td>0.908738</td>\n",
       "    </tr>\n",
       "    <tr>\n",
       "      <th>RandomForest</th>\n",
       "      <td>{'max_depth': None, 'n_estimators': 200}</td>\n",
       "      <td>3.042163</td>\n",
       "      <td>1.495847</td>\n",
       "      <td>0.901039</td>\n",
       "    </tr>\n",
       "    <tr>\n",
       "      <th>Ridge</th>\n",
       "      <td>{'alpha': 0.1}</td>\n",
       "      <td>5.090936</td>\n",
       "      <td>3.095505</td>\n",
       "      <td>0.722863</td>\n",
       "    </tr>\n",
       "    <tr>\n",
       "      <th>Lasso</th>\n",
       "      <td>{'alpha': 0.001}</td>\n",
       "      <td>5.096348</td>\n",
       "      <td>3.095345</td>\n",
       "      <td>0.722273</td>\n",
       "    </tr>\n",
       "    <tr>\n",
       "      <th>LinearRegression</th>\n",
       "      <td>NaN</td>\n",
       "      <td>5.105277</td>\n",
       "      <td>3.101651</td>\n",
       "      <td>0.721299</td>\n",
       "    </tr>\n",
       "    <tr>\n",
       "      <th>Baseline</th>\n",
       "      <td>NaN</td>\n",
       "      <td>9.714101</td>\n",
       "      <td>6.754443</td>\n",
       "      <td>-0.009032</td>\n",
       "    </tr>\n",
       "  </tbody>\n",
       "</table>\n",
       "</div>"
      ],
      "text/plain": [
       "                                                                  best_params  \\\n",
       "XGBoost           {'learning_rate': 0.1, 'max_depth': 6, 'n_estimators': 200}   \n",
       "RandomForest                         {'max_depth': None, 'n_estimators': 200}   \n",
       "Ridge                                                          {'alpha': 0.1}   \n",
       "Lasso                                                        {'alpha': 0.001}   \n",
       "LinearRegression                                                          NaN   \n",
       "Baseline                                                                  NaN   \n",
       "\n",
       "                      RMSE       MAE        R2  \n",
       "XGBoost           2.921425  1.409801  0.908738  \n",
       "RandomForest      3.042163  1.495847  0.901039  \n",
       "Ridge             5.090936  3.095505  0.722863  \n",
       "Lasso             5.096348  3.095345  0.722273  \n",
       "LinearRegression  5.105277  3.101651  0.721299  \n",
       "Baseline          9.714101  6.754443 -0.009032  "
      ]
     },
     "execution_count": 61,
     "metadata": {},
     "output_type": "execute_result"
    }
   ],
   "source": [
    "res_df = pd.DataFrame(results).T[['best_params','RMSE','MAE','R2']]\n",
    "res_df.sort_values(by='RMSE')"
   ]
  },
  {
   "cell_type": "markdown",
   "id": "736f379a-da83-4a20-b2f6-3c7e281c7205",
   "metadata": {},
   "source": [
    "## Итоги валидации моделей\n",
    "\n",
    "| Модель             | RMSE (valid) | MAE (valid) | R^2 (valid)  | Лучшие гиперпараметры                    |\n",
    "|--------------------|--------------|-------------|-------------|------------------------------------------|\n",
    "| Baseline           | 9.71         | 6.75        | –0.009      | —                                        |\n",
    "| LinearRegression   | 5.11         | 3.10        | 0.721       | —                                        |\n",
    "| Ridge              | 5.09         | 3.10        | 0.723       | α = 0.1                                  |\n",
    "| Lasso              | 5.10         | 3.10        | 0.722       | α = 0.001                                |\n",
    "| RandomForest       | 3.04         | 1.50        | 0.901       | n_estimators = 200, max_depth = None     |\n",
    "| XGBoost            | **2.92**     | **1.41**    | **0.909**   | learning_rate = 0.1, max_depth = 6, n_estimators = 200 |\n",
    "\n",
    "1. **Baseline** (DummyRegressor) дал RMSE ≈ 9.71 — модель без признаков не годится.  \n",
    "2. **Линейные модели** (LR/Ridge/Lasso) снизили RMSE до ~5.1, но всё ещё сильно уступают деревьям и бустингу.  \n",
    "3. **RandomForest** RMSE ≈ 3.04, R² ≈ 0.90 — хороший результат, учитывая сложность задачи.  \n",
    "4. **XGBoost** оказался лучшим: RMSE ≈ 2.92, MAE ≈ 1.41, R² ≈ 0.909 — сильный прогноз и значительное улучшение по сравнению с лесом.\n",
    "\n",
    "**Лучшая модель:** XGBoost с параметрами `{learning_rate: 0.1, max_depth: 6, n_estimators: 200}`."
   ]
  },
  {
   "cell_type": "markdown",
   "id": "adb779b5-c41c-4559-8957-2839db0e899d",
   "metadata": {},
   "source": [
    "## Окончательная проверка на тестовой выборке"
   ]
  },
  {
   "cell_type": "markdown",
   "id": "75d0c518-4609-4947-9abb-cebc8c1b035f",
   "metadata": {
    "execution": {
     "iopub.execute_input": "2025-05-06T20:49:57.965226Z",
     "iopub.status.busy": "2025-05-06T20:49:57.963637Z",
     "iopub.status.idle": "2025-05-06T20:49:57.986231Z",
     "shell.execute_reply": "2025-05-06T20:49:57.984362Z",
     "shell.execute_reply.started": "2025-05-06T20:49:57.965179Z"
    }
   },
   "source": [
    "Объединяем Train + Validation"
   ]
  },
  {
   "cell_type": "code",
   "execution_count": 62,
   "id": "927f3bd3-c811-4cc3-8e82-54da8a5d9b61",
   "metadata": {
    "execution": {
     "iopub.execute_input": "2025-05-06T20:57:33.855630Z",
     "iopub.status.busy": "2025-05-06T20:57:33.855150Z",
     "iopub.status.idle": "2025-05-06T20:57:33.861854Z",
     "shell.execute_reply": "2025-05-06T20:57:33.861130Z",
     "shell.execute_reply.started": "2025-05-06T20:57:33.855596Z"
    }
   },
   "outputs": [],
   "source": [
    "X_train_full = pd.concat([X_train, X_valid], axis=0)\n",
    "y_train_full = pd.concat([y_train, y_valid], axis=0)"
   ]
  },
  {
   "cell_type": "markdown",
   "id": "caaff305-9f32-43fb-8324-ba3e57df1b97",
   "metadata": {
    "execution": {
     "iopub.execute_input": "2025-05-06T20:51:36.522014Z",
     "iopub.status.busy": "2025-05-06T20:51:36.521504Z",
     "iopub.status.idle": "2025-05-06T20:51:36.788833Z",
     "shell.execute_reply": "2025-05-06T20:51:36.787530Z",
     "shell.execute_reply.started": "2025-05-06T20:51:36.521968Z"
    }
   },
   "source": [
    "Создаём финальную модель XGBoost с найденными параметрами"
   ]
  },
  {
   "cell_type": "code",
   "execution_count": 63,
   "id": "932dcfbc-57e1-4afc-8c34-f6d477bd146b",
   "metadata": {
    "execution": {
     "iopub.execute_input": "2025-05-06T20:57:33.863145Z",
     "iopub.status.busy": "2025-05-06T20:57:33.862837Z",
     "iopub.status.idle": "2025-05-06T20:57:33.879511Z",
     "shell.execute_reply": "2025-05-06T20:57:33.878631Z",
     "shell.execute_reply.started": "2025-05-06T20:57:33.863117Z"
    }
   },
   "outputs": [],
   "source": [
    "best_params = {'learning_rate': 0.1, 'max_depth': 6, 'n_estimators': 200}\n",
    "final_xgb = XGBRegressor(**best_params, random_state=42, verbosity=0)"
   ]
  },
  {
   "cell_type": "markdown",
   "id": "4210499f-9f95-4aa8-b53a-4aeac4c6d05d",
   "metadata": {
    "execution": {
     "iopub.execute_input": "2025-05-06T20:51:36.522014Z",
     "iopub.status.busy": "2025-05-06T20:51:36.521504Z",
     "iopub.status.idle": "2025-05-06T20:51:36.788833Z",
     "shell.execute_reply": "2025-05-06T20:51:36.787530Z",
     "shell.execute_reply.started": "2025-05-06T20:51:36.521968Z"
    }
   },
   "source": [
    "Обучаем на объединённом наборе"
   ]
  },
  {
   "cell_type": "code",
   "execution_count": 64,
   "id": "2b441d46-e57c-498a-9f84-c07292136112",
   "metadata": {
    "execution": {
     "iopub.execute_input": "2025-05-06T20:57:33.880753Z",
     "iopub.status.busy": "2025-05-06T20:57:33.880436Z",
     "iopub.status.idle": "2025-05-06T20:57:34.105032Z",
     "shell.execute_reply": "2025-05-06T20:57:34.102584Z",
     "shell.execute_reply.started": "2025-05-06T20:57:33.880708Z"
    }
   },
   "outputs": [
    {
     "data": {
      "text/html": [
       "<style>#sk-container-id-1 {color: black;background-color: white;}#sk-container-id-1 pre{padding: 0;}#sk-container-id-1 div.sk-toggleable {background-color: white;}#sk-container-id-1 label.sk-toggleable__label {cursor: pointer;display: block;width: 100%;margin-bottom: 0;padding: 0.3em;box-sizing: border-box;text-align: center;}#sk-container-id-1 label.sk-toggleable__label-arrow:before {content: \"▸\";float: left;margin-right: 0.25em;color: #696969;}#sk-container-id-1 label.sk-toggleable__label-arrow:hover:before {color: black;}#sk-container-id-1 div.sk-estimator:hover label.sk-toggleable__label-arrow:before {color: black;}#sk-container-id-1 div.sk-toggleable__content {max-height: 0;max-width: 0;overflow: hidden;text-align: left;background-color: #f0f8ff;}#sk-container-id-1 div.sk-toggleable__content pre {margin: 0.2em;color: black;border-radius: 0.25em;background-color: #f0f8ff;}#sk-container-id-1 input.sk-toggleable__control:checked~div.sk-toggleable__content {max-height: 200px;max-width: 100%;overflow: auto;}#sk-container-id-1 input.sk-toggleable__control:checked~label.sk-toggleable__label-arrow:before {content: \"▾\";}#sk-container-id-1 div.sk-estimator input.sk-toggleable__control:checked~label.sk-toggleable__label {background-color: #d4ebff;}#sk-container-id-1 div.sk-label input.sk-toggleable__control:checked~label.sk-toggleable__label {background-color: #d4ebff;}#sk-container-id-1 input.sk-hidden--visually {border: 0;clip: rect(1px 1px 1px 1px);clip: rect(1px, 1px, 1px, 1px);height: 1px;margin: -1px;overflow: hidden;padding: 0;position: absolute;width: 1px;}#sk-container-id-1 div.sk-estimator {font-family: monospace;background-color: #f0f8ff;border: 1px dotted black;border-radius: 0.25em;box-sizing: border-box;margin-bottom: 0.5em;}#sk-container-id-1 div.sk-estimator:hover {background-color: #d4ebff;}#sk-container-id-1 div.sk-parallel-item::after {content: \"\";width: 100%;border-bottom: 1px solid gray;flex-grow: 1;}#sk-container-id-1 div.sk-label:hover label.sk-toggleable__label {background-color: #d4ebff;}#sk-container-id-1 div.sk-serial::before {content: \"\";position: absolute;border-left: 1px solid gray;box-sizing: border-box;top: 0;bottom: 0;left: 50%;z-index: 0;}#sk-container-id-1 div.sk-serial {display: flex;flex-direction: column;align-items: center;background-color: white;padding-right: 0.2em;padding-left: 0.2em;position: relative;}#sk-container-id-1 div.sk-item {position: relative;z-index: 1;}#sk-container-id-1 div.sk-parallel {display: flex;align-items: stretch;justify-content: center;background-color: white;position: relative;}#sk-container-id-1 div.sk-item::before, #sk-container-id-1 div.sk-parallel-item::before {content: \"\";position: absolute;border-left: 1px solid gray;box-sizing: border-box;top: 0;bottom: 0;left: 50%;z-index: -1;}#sk-container-id-1 div.sk-parallel-item {display: flex;flex-direction: column;z-index: 1;position: relative;background-color: white;}#sk-container-id-1 div.sk-parallel-item:first-child::after {align-self: flex-end;width: 50%;}#sk-container-id-1 div.sk-parallel-item:last-child::after {align-self: flex-start;width: 50%;}#sk-container-id-1 div.sk-parallel-item:only-child::after {width: 0;}#sk-container-id-1 div.sk-dashed-wrapped {border: 1px dashed gray;margin: 0 0.4em 0.5em 0.4em;box-sizing: border-box;padding-bottom: 0.4em;background-color: white;}#sk-container-id-1 div.sk-label label {font-family: monospace;font-weight: bold;display: inline-block;line-height: 1.2em;}#sk-container-id-1 div.sk-label-container {text-align: center;}#sk-container-id-1 div.sk-container {/* jupyter's `normalize.less` sets `[hidden] { display: none; }` but bootstrap.min.css set `[hidden] { display: none !important; }` so we also need the `!important` here to be able to override the default hidden behavior on the sphinx rendered scikit-learn.org. See: https://github.com/scikit-learn/scikit-learn/issues/21755 */display: inline-block !important;position: relative;}#sk-container-id-1 div.sk-text-repr-fallback {display: none;}</style><div id=\"sk-container-id-1\" class=\"sk-top-container\"><div class=\"sk-text-repr-fallback\"><pre>XGBRegressor(base_score=None, booster=None, callbacks=None,\n",
       "             colsample_bylevel=None, colsample_bynode=None,\n",
       "             colsample_bytree=None, device=None, early_stopping_rounds=None,\n",
       "             enable_categorical=False, eval_metric=None, feature_types=None,\n",
       "             gamma=None, grow_policy=None, importance_type=None,\n",
       "             interaction_constraints=None, learning_rate=0.1, max_bin=None,\n",
       "             max_cat_threshold=None, max_cat_to_onehot=None,\n",
       "             max_delta_step=None, max_depth=6, max_leaves=None,\n",
       "             min_child_weight=None, missing=nan, monotone_constraints=None,\n",
       "             multi_strategy=None, n_estimators=200, n_jobs=None,\n",
       "             num_parallel_tree=None, random_state=42, ...)</pre><b>In a Jupyter environment, please rerun this cell to show the HTML representation or trust the notebook. <br />On GitHub, the HTML representation is unable to render, please try loading this page with nbviewer.org.</b></div><div class=\"sk-container\" hidden><div class=\"sk-item\"><div class=\"sk-estimator sk-toggleable\"><input class=\"sk-toggleable__control sk-hidden--visually\" id=\"sk-estimator-id-1\" type=\"checkbox\" checked><label for=\"sk-estimator-id-1\" class=\"sk-toggleable__label sk-toggleable__label-arrow\">XGBRegressor</label><div class=\"sk-toggleable__content\"><pre>XGBRegressor(base_score=None, booster=None, callbacks=None,\n",
       "             colsample_bylevel=None, colsample_bynode=None,\n",
       "             colsample_bytree=None, device=None, early_stopping_rounds=None,\n",
       "             enable_categorical=False, eval_metric=None, feature_types=None,\n",
       "             gamma=None, grow_policy=None, importance_type=None,\n",
       "             interaction_constraints=None, learning_rate=0.1, max_bin=None,\n",
       "             max_cat_threshold=None, max_cat_to_onehot=None,\n",
       "             max_delta_step=None, max_depth=6, max_leaves=None,\n",
       "             min_child_weight=None, missing=nan, monotone_constraints=None,\n",
       "             multi_strategy=None, n_estimators=200, n_jobs=None,\n",
       "             num_parallel_tree=None, random_state=42, ...)</pre></div></div></div></div></div>"
      ],
      "text/plain": [
       "XGBRegressor(base_score=None, booster=None, callbacks=None,\n",
       "             colsample_bylevel=None, colsample_bynode=None,\n",
       "             colsample_bytree=None, device=None, early_stopping_rounds=None,\n",
       "             enable_categorical=False, eval_metric=None, feature_types=None,\n",
       "             gamma=None, grow_policy=None, importance_type=None,\n",
       "             interaction_constraints=None, learning_rate=0.1, max_bin=None,\n",
       "             max_cat_threshold=None, max_cat_to_onehot=None,\n",
       "             max_delta_step=None, max_depth=6, max_leaves=None,\n",
       "             min_child_weight=None, missing=nan, monotone_constraints=None,\n",
       "             multi_strategy=None, n_estimators=200, n_jobs=None,\n",
       "             num_parallel_tree=None, random_state=42, ...)"
      ]
     },
     "execution_count": 64,
     "metadata": {},
     "output_type": "execute_result"
    }
   ],
   "source": [
    "final_xgb.fit(X_train_full, y_train_full)"
   ]
  },
  {
   "cell_type": "markdown",
   "id": "e13e9ca1-1c64-4a6d-9aaa-adbe13347c36",
   "metadata": {
    "execution": {
     "iopub.execute_input": "2025-05-06T20:51:36.522014Z",
     "iopub.status.busy": "2025-05-06T20:51:36.521504Z",
     "iopub.status.idle": "2025-05-06T20:51:36.788833Z",
     "shell.execute_reply": "2025-05-06T20:51:36.787530Z",
     "shell.execute_reply.started": "2025-05-06T20:51:36.521968Z"
    }
   },
   "source": [
    "Предсказываем на тестовой выборке"
   ]
  },
  {
   "cell_type": "code",
   "execution_count": 66,
   "id": "2924890b-b3a0-4cae-b260-d3f93dcce16b",
   "metadata": {
    "execution": {
     "iopub.execute_input": "2025-05-06T20:57:51.988962Z",
     "iopub.status.busy": "2025-05-06T20:57:51.987634Z",
     "iopub.status.idle": "2025-05-06T20:57:52.007478Z",
     "shell.execute_reply": "2025-05-06T20:57:52.005180Z",
     "shell.execute_reply.started": "2025-05-06T20:57:51.988921Z"
    }
   },
   "outputs": [
    {
     "name": "stdout",
     "output_type": "stream",
     "text": [
      "XGBoost на тесте - RMSE: 4.228617105452807\n",
      "XGBoost на тесте - MAE : 1.7144886766296399\n",
      "XGBoost на тесте - R2  : 0.8468533655578794\n"
     ]
    }
   ],
   "source": [
    "y_pred_test = final_xgb.predict(X_test)\n",
    "\n",
    "print(\"XGBoost на тесте - RMSE:\", mean_squared_error(y_test, y_pred_test, squared=False))\n",
    "print(\"XGBoost на тесте - MAE :\", mean_absolute_error(y_test, y_pred_test))\n",
    "print(\"XGBoost на тесте - R2  :\", r2_score(y_test, y_pred_test))"
   ]
  },
  {
   "cell_type": "markdown",
   "id": "0957ccf8-599a-446e-85a1-1e6d3c6fdba8",
   "metadata": {},
   "source": [
    "## Итоговое обоснование разбиения и финального обучения\n",
    "\n",
    "1. **Исходное разбиение (70 / 15 / 15)**  \n",
    "   - **Train (70 %)** - для обучения моделей и подготовки признаков.  \n",
    "   - **Validation (15 %)** - для честного подбора гиперпараметров и выбора лучшей модели без утечки информации в тест.  \n",
    "   - **Test (15 %)** - полностью оторванная от процесса подбора и валидации выборка для окончательной оценки.\n",
    "\n",
    "2. **Обучение финальной модели на Train+Validation**  \n",
    "   - После того как оптимальные гиперпараметры XGBoost найдены на валидации (learning_rate=0.1, max_depth=6, n_estimators=200), мы **объединяем Train и Validation** (85 % данных) для обучения финальной модели.  \n",
    "   - Это позволяет задействовать все доступные «не тестовые» данные и повысить обобщающую способность, сохранив тестовую выборку в чистоте.\n",
    "\n",
    "3. **Оценка на Test**  \n",
    "   - Тестовая метрика показывает истинную производительность на новых данных:  \n",
    "     - **RMSE ≈ 4.23** лакхов  \n",
    "     - **MAE  ≈ 1.71** лакхов  \n",
    "     - **R^2   ≈ 0.847**  \n",
    "   - Результаты несколько хуже, чем на валидации (RMSE ≈ 2.92), что естественно из-за отсутствия утечки информации и лёгкого переобучения на валидационной выборке.\n",
    "\n",
    "4. **Вывод по модели**  \n",
    "   - **XGBoost** с подобранными гиперпараметрами — это наш **лучший прогнозист**, демонстрирующий высокую объясняющую способность (R^2 ≈ 0.85) и приемлемый уровень ошибки (RMSE ≈ 4.2 лакхов) на полностью независимых данных.  \n",
    "   - Такой результат подтверждает, что я построил устойчивую и надёжную модель для прогнозирования цены подержанных автомобилей\n"
   ]
  },
  {
   "cell_type": "code",
   "execution_count": null,
   "id": "0150276b-4040-44b9-b473-e02e8358718a",
   "metadata": {},
   "outputs": [],
   "source": []
  }
 ],
 "metadata": {
  "kaggle": {
   "accelerator": "none",
   "dataSources": [
    {
     "datasetId": 7343571,
     "sourceId": 11699685,
     "sourceType": "datasetVersion"
    }
   ],
   "dockerImageVersionId": 31012,
   "isGpuEnabled": false,
   "isInternetEnabled": true,
   "language": "python",
   "sourceType": "notebook"
  },
  "kernelspec": {
   "display_name": "Python 3 (ipykernel)",
   "language": "python",
   "name": "python3"
  },
  "language_info": {
   "codemirror_mode": {
    "name": "ipython",
    "version": 3
   },
   "file_extension": ".py",
   "mimetype": "text/x-python",
   "name": "python",
   "nbconvert_exporter": "python",
   "pygments_lexer": "ipython3",
   "version": "3.11.11"
  }
 },
 "nbformat": 4,
 "nbformat_minor": 5
}
